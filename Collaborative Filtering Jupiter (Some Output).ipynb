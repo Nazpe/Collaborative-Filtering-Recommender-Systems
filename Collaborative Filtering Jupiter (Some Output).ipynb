{
 "cells": [
  {
   "cell_type": "markdown",
   "metadata": {},
   "source": [
    "# Collaborative Filtering"
   ]
  },
  {
   "cell_type": "markdown",
   "metadata": {},
   "source": [
    "#### Work done by:\n",
    "Nuno Pedrosa"
   ]
  },
  {
   "cell_type": "code",
   "execution_count": 1,
   "metadata": {
    "scrolled": true,
    "tags": []
   },
   "outputs": [],
   "source": [
    "import pyspark\n",
    "import pandas as pd\n",
    "import numpy as np\n",
    "from pyspark.sql import SparkSession\n",
    "from pyspark import SparkContext, SparkConf\n",
    "from pyspark.mllib.recommendation import ALS\n",
    "from pyspark.mllib.recommendation import MatrixFactorizationModel\n",
    "import pyspark.sql.functions as F\n",
    "from math import sqrt\n",
    "from pyspark.ml.evaluation import RegressionEvaluator\n",
    "from pyspark.sql import Row"
   ]
  },
  {
   "cell_type": "markdown",
   "metadata": {},
   "source": [
    "Initializing spark"
   ]
  },
  {
   "cell_type": "code",
   "execution_count": null,
   "metadata": {
    "scrolled": true
   },
   "outputs": [],
   "source": [
    "conf = SparkConf()\n",
    "sc = SparkContext(conf=conf)"
   ]
  },
  {
   "cell_type": "code",
   "execution_count": 3,
   "metadata": {
    "scrolled": true
   },
   "outputs": [],
   "source": [
    "spark = SparkSession \\\n",
    "    .builder \\\n",
    "    .master('local[*]') \\\n",
    "    .config(\"spark.driver.memory\", \"15g\") \\\n",
    "    .appName(\"MovieLens CF\") \\\n",
    "    .getOrCreate()\n",
    "\n",
    "spark.conf.set(\"spark.sql.execution.arrow.pyspark.enabled\", \"true\")\n"
   ]
  },
  {
   "cell_type": "markdown",
   "metadata": {},
   "source": [
    "Reading MovieLens dataset. Movies_df is used to ralationate the movieID with it' name. Ratings_df is has the score given by a user to a certain movie, it has the key information of the project"
   ]
  },
  {
   "cell_type": "code",
   "execution_count": 4,
   "metadata": {
    "scrolled": true
   },
   "outputs": [],
   "source": [
    "Movies_df = spark.read.csv(\"ml-latest-small/movies.csv\",header=True)\n",
    "Ratings_df = spark.read.csv(\"ml-latest-small/ratings.csv\",header=True)\n"
   ]
  },
  {
   "cell_type": "code",
   "execution_count": 5,
   "metadata": {
    "scrolled": true
   },
   "outputs": [
    {
     "name": "stdout",
     "output_type": "stream",
     "text": [
      "root\n",
      " |-- movieId: string (nullable = true)\n",
      " |-- title: string (nullable = true)\n",
      " |-- genres: string (nullable = true)\n",
      "\n",
      "+-------+--------------------+--------------------+\n",
      "|movieId|               title|              genres|\n",
      "+-------+--------------------+--------------------+\n",
      "|      1|    Toy Story (1995)|Adventure|Animati...|\n",
      "|      2|      Jumanji (1995)|Adventure|Childre...|\n",
      "|      3|Grumpier Old Men ...|      Comedy|Romance|\n",
      "|      4|Waiting to Exhale...|Comedy|Drama|Romance|\n",
      "|      5|Father of the Bri...|              Comedy|\n",
      "|      6|         Heat (1995)|Action|Crime|Thri...|\n",
      "|      7|      Sabrina (1995)|      Comedy|Romance|\n",
      "|      8| Tom and Huck (1995)|  Adventure|Children|\n",
      "|      9| Sudden Death (1995)|              Action|\n",
      "|     10|    GoldenEye (1995)|Action|Adventure|...|\n",
      "|     11|American Presiden...|Comedy|Drama|Romance|\n",
      "|     12|Dracula: Dead and...|       Comedy|Horror|\n",
      "|     13|        Balto (1995)|Adventure|Animati...|\n",
      "|     14|        Nixon (1995)|               Drama|\n",
      "|     15|Cutthroat Island ...|Action|Adventure|...|\n",
      "|     16|       Casino (1995)|         Crime|Drama|\n",
      "|     17|Sense and Sensibi...|       Drama|Romance|\n",
      "|     18|   Four Rooms (1995)|              Comedy|\n",
      "|     19|Ace Ventura: When...|              Comedy|\n",
      "|     20|  Money Train (1995)|Action|Comedy|Cri...|\n",
      "+-------+--------------------+--------------------+\n",
      "only showing top 20 rows\n",
      "\n"
     ]
    }
   ],
   "source": [
    "Movies_df.printSchema()\n",
    "Movies_df.show()"
   ]
  },
  {
   "cell_type": "code",
   "execution_count": 6,
   "metadata": {
    "scrolled": true
   },
   "outputs": [
    {
     "name": "stdout",
     "output_type": "stream",
     "text": [
      "root\n",
      " |-- userId: string (nullable = true)\n",
      " |-- movieId: string (nullable = true)\n",
      " |-- rating: string (nullable = true)\n",
      " |-- timestamp: string (nullable = true)\n",
      "\n",
      "+------+-------+------+---------+\n",
      "|userId|movieId|rating|timestamp|\n",
      "+------+-------+------+---------+\n",
      "|     1|      1|   4.0|964982703|\n",
      "|     1|      3|   4.0|964981247|\n",
      "|     1|      6|   4.0|964982224|\n",
      "|     1|     47|   5.0|964983815|\n",
      "|     1|     50|   5.0|964982931|\n",
      "|     1|     70|   3.0|964982400|\n",
      "|     1|    101|   5.0|964980868|\n",
      "|     1|    110|   4.0|964982176|\n",
      "|     1|    151|   5.0|964984041|\n",
      "|     1|    157|   5.0|964984100|\n",
      "|     1|    163|   5.0|964983650|\n",
      "|     1|    216|   5.0|964981208|\n",
      "|     1|    223|   3.0|964980985|\n",
      "|     1|    231|   5.0|964981179|\n",
      "|     1|    235|   4.0|964980908|\n",
      "|     1|    260|   5.0|964981680|\n",
      "|     1|    296|   3.0|964982967|\n",
      "|     1|    316|   3.0|964982310|\n",
      "|     1|    333|   5.0|964981179|\n",
      "|     1|    349|   4.0|964982563|\n",
      "+------+-------+------+---------+\n",
      "only showing top 20 rows\n",
      "\n"
     ]
    }
   ],
   "source": [
    "Ratings_df.printSchema()\n",
    "Ratings_df.show()"
   ]
  },
  {
   "cell_type": "markdown",
   "metadata": {},
   "source": [
    "Changing data types and eliminating the timestamp column."
   ]
  },
  {
   "cell_type": "code",
   "execution_count": 7,
   "metadata": {
    "scrolled": true
   },
   "outputs": [],
   "source": [
    "Ratings_df=Ratings_df.withColumn('rating', Ratings_df['rating'].cast(\"float\"))\n",
    "Ratings_df=Ratings_df.withColumn('userId', Ratings_df['userId'].cast(\"integer\"))\n",
    "Ratings_df=Ratings_df.withColumn('movieId', Ratings_df['movieId'].cast(\"integer\"))\n",
    "Ratings_df = Ratings_df.drop(*['timestamp'])"
   ]
  },
  {
   "cell_type": "code",
   "execution_count": 8,
   "metadata": {
    "scrolled": true
   },
   "outputs": [
    {
     "name": "stdout",
     "output_type": "stream",
     "text": [
      "root\n",
      " |-- userId: integer (nullable = true)\n",
      " |-- movieId: integer (nullable = true)\n",
      " |-- rating: float (nullable = true)\n",
      "\n",
      "+------+-------+------+\n",
      "|userId|movieId|rating|\n",
      "+------+-------+------+\n",
      "|     1|      1|   4.0|\n",
      "|     1|      3|   4.0|\n",
      "|     1|      6|   4.0|\n",
      "|     1|     47|   5.0|\n",
      "|     1|     50|   5.0|\n",
      "|     1|     70|   3.0|\n",
      "|     1|    101|   5.0|\n",
      "|     1|    110|   4.0|\n",
      "|     1|    151|   5.0|\n",
      "|     1|    157|   5.0|\n",
      "|     1|    163|   5.0|\n",
      "|     1|    216|   5.0|\n",
      "|     1|    223|   3.0|\n",
      "|     1|    231|   5.0|\n",
      "|     1|    235|   4.0|\n",
      "|     1|    260|   5.0|\n",
      "|     1|    296|   3.0|\n",
      "|     1|    316|   3.0|\n",
      "|     1|    333|   5.0|\n",
      "|     1|    349|   4.0|\n",
      "+------+-------+------+\n",
      "only showing top 20 rows\n",
      "\n"
     ]
    }
   ],
   "source": [
    "Ratings_df.printSchema()\n",
    "Ratings_df.show()"
   ]
  },
  {
   "cell_type": "markdown",
   "metadata": {},
   "source": [
    "Checking the distribution of the dataset by user and by movie."
   ]
  },
  {
   "cell_type": "code",
   "execution_count": 9,
   "metadata": {
    "scrolled": true
   },
   "outputs": [
    {
     "name": "stdout",
     "output_type": "stream",
     "text": [
      "+------+-----+\n",
      "|userId|count|\n",
      "+------+-----+\n",
      "|   148|   48|\n",
      "|   463|   33|\n",
      "|   471|   28|\n",
      "|   496|   29|\n",
      "|   243|   36|\n",
      "|   392|   25|\n",
      "|   540|   42|\n",
      "|    31|   50|\n",
      "|   516|   26|\n",
      "|    85|   34|\n",
      "|   137|  141|\n",
      "|   251|   23|\n",
      "|   451|   34|\n",
      "|   580|  436|\n",
      "|    65|   34|\n",
      "|   458|   59|\n",
      "|    53|   20|\n",
      "|   255|   44|\n",
      "|   481|   31|\n",
      "|   588|   56|\n",
      "+------+-----+\n",
      "only showing top 20 rows\n",
      "\n"
     ]
    }
   ],
   "source": [
    "user_ratings = Ratings_df.groupBy(\"userId\").count()\n",
    "user_ratings.show()"
   ]
  },
  {
   "cell_type": "code",
   "execution_count": 10,
   "metadata": {
    "scrolled": true
   },
   "outputs": [
    {
     "name": "stdout",
     "output_type": "stream",
     "text": [
      "+-------+-----+\n",
      "|movieId|count|\n",
      "+-------+-----+\n",
      "|   1580|  165|\n",
      "|   2366|   25|\n",
      "|   3175|   75|\n",
      "|   1088|   42|\n",
      "|  32460|    4|\n",
      "|  44022|   23|\n",
      "|  96488|    4|\n",
      "|   1238|    9|\n",
      "|   1342|   11|\n",
      "|   1591|   26|\n",
      "|   1645|   51|\n",
      "|   4519|    9|\n",
      "|   2142|   10|\n",
      "|    471|   40|\n",
      "|   3997|   12|\n",
      "|    833|    6|\n",
      "|   3918|    9|\n",
      "|   7982|    4|\n",
      "|   1959|   15|\n",
      "|  68135|   10|\n",
      "+-------+-----+\n",
      "only showing top 20 rows\n",
      "\n"
     ]
    }
   ],
   "source": [
    "movie_ratings = Ratings_df.groupBy(\"movieId\").count()\n",
    "movie_ratings.show()"
   ]
  },
  {
   "cell_type": "markdown",
   "metadata": {},
   "source": [
    "To be able to validate the obtained results, we need to separate the dataset into a train and test dataset, so, 90% of the data will be used to train and 10% to test"
   ]
  },
  {
   "cell_type": "code",
   "execution_count": 11,
   "metadata": {
    "scrolled": true
   },
   "outputs": [],
   "source": [
    "# Create test and train set\n",
    "(Train, Test) = Ratings_df.randomSplit([0.9, 0.1], seed = 0)"
   ]
  },
  {
   "cell_type": "code",
   "execution_count": 12,
   "metadata": {
    "scrolled": true
   },
   "outputs": [
    {
     "name": "stdout",
     "output_type": "stream",
     "text": [
      "+------+-------+------+\n",
      "|userId|movieId|rating|\n",
      "+------+-------+------+\n",
      "|     1|      1|   4.0|\n",
      "|     1|      3|   4.0|\n",
      "|     1|      6|   4.0|\n",
      "|     1|     47|   5.0|\n",
      "|     1|     50|   5.0|\n",
      "|     1|     70|   3.0|\n",
      "|     1|    101|   5.0|\n",
      "|     1|    110|   4.0|\n",
      "|     1|    151|   5.0|\n",
      "|     1|    157|   5.0|\n",
      "|     1|    163|   5.0|\n",
      "|     1|    216|   5.0|\n",
      "|     1|    223|   3.0|\n",
      "|     1|    231|   5.0|\n",
      "|     1|    235|   4.0|\n",
      "|     1|    260|   5.0|\n",
      "|     1|    296|   3.0|\n",
      "|     1|    316|   3.0|\n",
      "|     1|    333|   5.0|\n",
      "|     1|    349|   4.0|\n",
      "+------+-------+------+\n",
      "only showing top 20 rows\n",
      "\n"
     ]
    }
   ],
   "source": [
    "Train.show()"
   ]
  },
  {
   "cell_type": "code",
   "execution_count": 13,
   "metadata": {
    "scrolled": true
   },
   "outputs": [
    {
     "name": "stdout",
     "output_type": "stream",
     "text": [
      "610\n"
     ]
    }
   ],
   "source": [
    "\n",
    "Train_user_ratings = Train.groupBy(\"userId\").count()\n",
    "Train_users=Train_user_ratings.count()\n",
    "Train_user_ratings=Train_user_ratings.select('userId').rdd.map(lambda x: x[0]).collect()\n",
    "print(Train_users)"
   ]
  },
  {
   "cell_type": "markdown",
   "metadata": {},
   "source": [
    "There are 610 different users in the Train dataset"
   ]
  },
  {
   "cell_type": "code",
   "execution_count": 14,
   "metadata": {},
   "outputs": [
    {
     "name": "stdout",
     "output_type": "stream",
     "text": [
      "597\n"
     ]
    }
   ],
   "source": [
    "Test_user_ratings = Test.groupBy(\"userId\").count()\n",
    "Test_users=Test_user_ratings.count() \n",
    "Test_user_ratings=Test_user_ratings.select('userId').rdd.map(lambda x: x[0]).collect()\n",
    "print(Test_users)"
   ]
  },
  {
   "cell_type": "markdown",
   "metadata": {},
   "source": [
    "There are 597 different users in the Test dataset"
   ]
  },
  {
   "cell_type": "code",
   "execution_count": 15,
   "metadata": {
    "scrolled": true
   },
   "outputs": [
    {
     "name": "stdout",
     "output_type": "stream",
     "text": [
      "9368\n"
     ]
    }
   ],
   "source": [
    "\n",
    "Train_movie_ratings = Train.groupBy(\"movieID\").count()\n",
    "Train_movie=Train_movie_ratings.count()\n",
    "Train_movie_ratings=Train_movie_ratings.select('movieID').rdd.map(lambda x: x[0]).collect()\n",
    "print(Train_movie)"
   ]
  },
  {
   "cell_type": "markdown",
   "metadata": {},
   "source": [
    "There are 9368 different movies in the Train dataset"
   ]
  },
  {
   "cell_type": "code",
   "execution_count": 16,
   "metadata": {},
   "outputs": [
    {
     "name": "stdout",
     "output_type": "stream",
     "text": [
      "3646\n"
     ]
    }
   ],
   "source": [
    "Test_movie_ratings = Test.groupBy(\"movieID\").count()\n",
    "Test_movie=Test_movie_ratings.count()\n",
    "Test_movie_ratings=Test_movie_ratings.select('movieID').rdd.map(lambda x: x[0]).collect()\n",
    "print(Test_movie)"
   ]
  },
  {
   "cell_type": "markdown",
   "metadata": {},
   "source": [
    "There are 3646 different movies in the Test dataset"
   ]
  },
  {
   "cell_type": "markdown",
   "metadata": {},
   "source": [
    "It's possible that the train test split obtained has unique users and/or unique movies.\n",
    "\n",
    "This is problematic when comes the moment to compare the real results with predicted scores, so we need to check that with the NotUnique function."
   ]
  },
  {
   "cell_type": "code",
   "execution_count": 17,
   "metadata": {},
   "outputs": [],
   "source": [
    "# We need to check if the Test df doesn't have new users or new movies that aren't in the Train set\n",
    "\n",
    "def NotUnique(TrainList,TestList):\n",
    "    \n",
    "    for item in TestList:\n",
    "        if item not in TrainList:\n",
    "            print('This Train Test Split is not perfect (a part of the test Dataset will have to be ignored)')\n",
    "            return\n",
    "    print('This Train Test Split is perfect')"
   ]
  },
  {
   "cell_type": "code",
   "execution_count": 18,
   "metadata": {},
   "outputs": [
    {
     "name": "stdout",
     "output_type": "stream",
     "text": [
      "This Train Test Split is perfect\n",
      "This Train Test Split is not perfect (a part of the test Dataset will have to be ignored)\n"
     ]
    }
   ],
   "source": [
    "# Check for users\n",
    "NotUnique(Train_user_ratings,Test_user_ratings)\n",
    "# Check for movies\n",
    "NotUnique(Train_movie_ratings,Test_movie_ratings)"
   ]
  },
  {
   "cell_type": "markdown",
   "metadata": {},
   "source": [
    "Analysing the output of the function, we conclude that the test dataset doesn't have unique users, however, it has unique movies. These movie ratings will have to be ignored."
   ]
  },
  {
   "cell_type": "markdown",
   "metadata": {},
   "source": [
    "## Constructing User Item Matrix"
   ]
  },
  {
   "cell_type": "markdown",
   "metadata": {},
   "source": [
    "In this section we will construct the user item matrix in two different ways, one based on movies, to get the similaritys between movies, and one based on users, to predict new scores.\n",
    "\n",
    "For this we need two costum made functions: transformRating and RatingJunction."
   ]
  },
  {
   "cell_type": "markdown",
   "metadata": {},
   "source": [
    "The transform rating function creates a rdd entry for each rating, were, in the index of a specific movie/user, puts the desired rating, and the rest of the rating list will have Nones."
   ]
  },
  {
   "cell_type": "code",
   "execution_count": 19,
   "metadata": {
    "scrolled": true
   },
   "outputs": [],
   "source": [
    "def transformRating(Id_1,rating,Id_2,items):\n",
    "    rating_list = [rating if ele == Id_1 else None for ele in items]\n",
    "    return ([Id_2]+[rating_list])"
   ]
  },
  {
   "cell_type": "markdown",
   "metadata": {},
   "source": [
    "The RatingJunction function combines all the ratings of a specific movie/user in a unique RDD entry."
   ]
  },
  {
   "cell_type": "code",
   "execution_count": 20,
   "metadata": {
    "scrolled": true
   },
   "outputs": [],
   "source": [
    "def RatingJunction(a,b):\n",
    "\n",
    "    \n",
    "    n=0\n",
    "    for ind in b:   #Here I didn't run the whole list but only up to the index of b, this works because b is always an RDD with only one entry. Helps reduce computing time\n",
    "        if ind != None:\n",
    "            break\n",
    "        n=n+1\n",
    "\n",
    "    c=a\n",
    "    c[n]=b[n]\n",
    "\n",
    "    return c"
   ]
  },
  {
   "cell_type": "markdown",
   "metadata": {},
   "source": [
    "### RDD Based on Users"
   ]
  },
  {
   "cell_type": "markdown",
   "metadata": {},
   "source": [
    "Create a ordered list of movies (it'ś the order of the ratings in the user based RDD that will be made)."
   ]
  },
  {
   "cell_type": "code",
   "execution_count": 21,
   "metadata": {
    "scrolled": true
   },
   "outputs": [
    {
     "name": "stdout",
     "output_type": "stream",
     "text": [
      "9368\n"
     ]
    }
   ],
   "source": [
    "# This List has all of the movies in the dataset, in the order that will appear in the Train_user_RDD\n",
    "items_movies = Train.select('movieId').rdd.map(lambda data:data.movieId).collect()\n",
    "items_movies = list(dict.fromkeys(items_movies))\n",
    "item_movies_len = len(items_movies)\n",
    "print(item_movies_len)"
   ]
  },
  {
   "cell_type": "markdown",
   "metadata": {},
   "source": [
    "Getting the user based RDD"
   ]
  },
  {
   "cell_type": "code",
   "execution_count": null,
   "metadata": {
    "scrolled": true
   },
   "outputs": [],
   "source": [
    "\n",
    "\n",
    "Train_user_RDD =Train.rdd.map(lambda data:(data.movieId,data.rating,data.userId))\n",
    "\n",
    "Train_user_RDD=Train_user_RDD.map((lambda data:transformRating(data[0],data[1],data[2],items_movies)))\n",
    "\n",
    "Train_user_RDD=Train_user_RDD.map(lambda item: (item[0],item[1]))\n",
    "\n",
    "Train_user_RDD.take(10)"
   ]
  },
  {
   "cell_type": "code",
   "execution_count": null,
   "metadata": {
    "scrolled": true
   },
   "outputs": [],
   "source": [
    "Train_user_RDD=Train_user_RDD.reduceByKey(lambda data_1,data_2:RatingJunction(data_1,data_2))\n",
    "\n",
    "Train_user_RDD.take(10)\n"
   ]
  },
  {
   "cell_type": "markdown",
   "metadata": {},
   "source": [
    "df_user_to_show shows us the item user RDD in a understandable way."
   ]
  },
  {
   "cell_type": "code",
   "execution_count": 24,
   "metadata": {
    "scrolled": true
   },
   "outputs": [
    {
     "name": "stdout",
     "output_type": "stream",
     "text": [
      "+---+--------------------+\n",
      "| _1|                  _2|\n",
      "+---+--------------------+\n",
      "|  1|[4.0, 4.0, 4.0, 5...|\n",
      "|  2|[null, null, null...|\n",
      "|  3|[null, null, null...|\n",
      "|  4|[null, null, null...|\n",
      "|  5|[4.0, null, null,...|\n",
      "|  6|[null, 5.0, null,...|\n",
      "|  7|[4.5, null, null,...|\n",
      "|  8|[null, null, null...|\n",
      "|  9|[null, null, null...|\n",
      "| 10|[null, null, null...|\n",
      "| 11|[null, null, null...|\n",
      "| 12|[null, null, null...|\n",
      "| 13|[null, null, null...|\n",
      "| 14|[null, null, null...|\n",
      "| 15|[2.5, null, null,...|\n",
      "| 16|[null, null, null...|\n",
      "| 17|[4.5, null, null,...|\n",
      "| 18|[3.5, null, 4.0, ...|\n",
      "| 19|[4.0, 3.0, null, ...|\n",
      "| 20|[null, null, null...|\n",
      "+---+--------------------+\n",
      "only showing top 20 rows\n",
      "\n"
     ]
    }
   ],
   "source": [
    "df_user_to_show=Train_user_RDD.toDF()\n",
    "\n",
    "df_user_to_show.show()"
   ]
  },
  {
   "cell_type": "markdown",
   "metadata": {},
   "source": [
    "### RDD Based on Items"
   ]
  },
  {
   "cell_type": "markdown",
   "metadata": {},
   "source": [
    "Create a ordered list of users (it'ś the order of the ratings in the movie based RDD that will be made)."
   ]
  },
  {
   "cell_type": "code",
   "execution_count": 25,
   "metadata": {
    "scrolled": true
   },
   "outputs": [
    {
     "name": "stdout",
     "output_type": "stream",
     "text": [
      "610\n"
     ]
    }
   ],
   "source": [
    "# This List has all of the users in the dataset, in the order that will appear in the Train_movie_RDD\n",
    "items_users = Train.select('userId').rdd.map(lambda data:data.userId).collect()\n",
    "items_users = list(dict.fromkeys(items_users))\n",
    "item_users_len = len(items_users)\n",
    "print(item_users_len)"
   ]
  },
  {
   "cell_type": "markdown",
   "metadata": {},
   "source": [
    "Getting the movie based RDD"
   ]
  },
  {
   "cell_type": "code",
   "execution_count": null,
   "metadata": {
    "scrolled": true
   },
   "outputs": [],
   "source": [
    "Train_movie_RDD =Train.rdd.map(lambda data:(data.userId,data.rating,data.movieId))\n",
    "\n",
    "Train_movie_RDD=Train_movie_RDD.map((lambda data:transformRating(data[0],data[1],data[2],items_users)))\n",
    "\n",
    "Train_movie_RDD=Train_movie_RDD.map(lambda item: (item[0],item[1]))\n",
    "\n",
    "Train_movie_RDD.take(10)"
   ]
  },
  {
   "cell_type": "code",
   "execution_count": null,
   "metadata": {
    "scrolled": true
   },
   "outputs": [],
   "source": [
    "Train_movie_RDD=Train_movie_RDD.reduceByKey(lambda data_1,data_2:RatingJunction(data_1,data_2))\n",
    "\n",
    "Train_movie_RDD.take(10)"
   ]
  },
  {
   "cell_type": "markdown",
   "metadata": {},
   "source": [
    "df_movie_to_show shows us the item user RDD in a understandable way."
   ]
  },
  {
   "cell_type": "code",
   "execution_count": 28,
   "metadata": {
    "scrolled": true
   },
   "outputs": [
    {
     "name": "stdout",
     "output_type": "stream",
     "text": [
      "+---+--------------------+\n",
      "| _1|                  _2|\n",
      "+---+--------------------+\n",
      "|  1|[4.0, null, null,...|\n",
      "|  3|[4.0, null, null,...|\n",
      "|  6|[4.0, null, null,...|\n",
      "| 47|[5.0, null, null,...|\n",
      "| 50|[5.0, null, null,...|\n",
      "| 70|[3.0, null, null,...|\n",
      "|101|[5.0, null, null,...|\n",
      "|110|[4.0, null, null,...|\n",
      "|151|[5.0, null, null,...|\n",
      "|157|[5.0, null, null,...|\n",
      "|163|[5.0, null, null,...|\n",
      "|216|[5.0, null, null,...|\n",
      "|223|[3.0, null, null,...|\n",
      "|231|[5.0, null, null,...|\n",
      "|235|[4.0, null, null,...|\n",
      "|260|[5.0, null, null,...|\n",
      "|296|[3.0, null, null,...|\n",
      "|316|[3.0, null, null,...|\n",
      "|333|[5.0, 4.0, null, ...|\n",
      "|349|[4.0, null, null,...|\n",
      "+---+--------------------+\n",
      "only showing top 20 rows\n",
      "\n"
     ]
    }
   ],
   "source": [
    "df_movie=Train_movie_RDD.toDF()\n",
    "\n",
    "df_movie.show()"
   ]
  },
  {
   "cell_type": "markdown",
   "metadata": {},
   "source": [
    "## Get similaritys between Movies"
   ]
  },
  {
   "cell_type": "markdown",
   "metadata": {},
   "source": [
    "The first step to obtain the similaritys between movies is to subtract the mean rating of a movie to each of it's ratings. Non existing ratings will be substituted with 0.\n",
    "\n",
    "This is obtained with the Pearson_step1 function."
   ]
  },
  {
   "cell_type": "code",
   "execution_count": 29,
   "metadata": {
    "scrolled": true
   },
   "outputs": [],
   "source": [
    "def Pearson_step1(item):\n",
    "    ratings=item[1]\n",
    "    ratings_Ex = list(filter(None,ratings))\n",
    "    mean=sum(ratings_Ex)/len(ratings_Ex)\n",
    "    n=0\n",
    "    for rat in ratings:\n",
    "        if rat != None:\n",
    "            ratings[n]=ratings[n]-mean\n",
    "        else:\n",
    "            ratings[n]=0.0\n",
    "        n=n+1\n",
    "    return (item[0], ratings)"
   ]
  },
  {
   "cell_type": "code",
   "execution_count": null,
   "metadata": {
    "scrolled": true
   },
   "outputs": [],
   "source": [
    "Similarity_RDD = Train_movie_RDD.map(lambda item: Pearson_step1(item))\n",
    "\n",
    "Similarity_RDD.take(10)"
   ]
  },
  {
   "cell_type": "markdown",
   "metadata": {},
   "source": [
    "Turn the similarity RDD into a DataFrame."
   ]
  },
  {
   "cell_type": "code",
   "execution_count": 31,
   "metadata": {
    "scrolled": true
   },
   "outputs": [
    {
     "name": "stdout",
     "output_type": "stream",
     "text": [
      "+---+--------------------+\n",
      "| _1|                  _2|\n",
      "+---+--------------------+\n",
      "|  1|[0.06578947368421...|\n",
      "|  3|[0.72340425531914...|\n",
      "|  6|[0.09890109890109...|\n",
      "| 47|[1.04278074866310...|\n",
      "| 50|[0.78378378378378...|\n",
      "| 70|[-0.5098039215686...|\n",
      "|101|[1.19047619047619...|\n",
      "|110|[-0.0539215686274...|\n",
      "|151|[1.37837837837837...|\n",
      "|157|[2.05, 0.0, 0.0, ...|\n",
      "|163|[1.44067796610169...|\n",
      "|216|[1.59756097560975...|\n",
      "|223|[-0.8370786516853...|\n",
      "|231|[1.86885245901639...|\n",
      "|235|[0.40163934426229...|\n",
      "|260|[0.80786026200873...|\n",
      "|296|[-1.1845878136200...|\n",
      "|316|[-0.3849206349206...|\n",
      "|333|[1.13095238095238...|\n",
      "|349|[0.40291262135922...|\n",
      "+---+--------------------+\n",
      "only showing top 20 rows\n",
      "\n"
     ]
    }
   ],
   "source": [
    "df_movie_s=Similarity_RDD.toDF()\n",
    "\n",
    "df_movie_s.show()"
   ]
  },
  {
   "cell_type": "markdown",
   "metadata": {},
   "source": [
    "Here we do a crossJoin on the Dataframe, too facilitate the process to obtain similarities. Each row will be used to get different similarities between movies."
   ]
  },
  {
   "cell_type": "code",
   "execution_count": 32,
   "metadata": {
    "scrolled": true
   },
   "outputs": [
    {
     "name": "stdout",
     "output_type": "stream",
     "text": [
      "+---------+--------------------+---------+--------------------+\n",
      "|movieId_1|           ratings_1|movieId_2|           ratings_2|\n",
      "+---------+--------------------+---------+--------------------+\n",
      "|        1|[0.06578947368421...|        1|[0.06578947368421...|\n",
      "|        1|[0.06578947368421...|        3|[0.72340425531914...|\n",
      "|        1|[0.06578947368421...|        6|[0.09890109890109...|\n",
      "|        1|[0.06578947368421...|       47|[1.04278074866310...|\n",
      "|        1|[0.06578947368421...|       50|[0.78378378378378...|\n",
      "|        1|[0.06578947368421...|       70|[-0.5098039215686...|\n",
      "|        1|[0.06578947368421...|      101|[1.19047619047619...|\n",
      "|        1|[0.06578947368421...|      110|[-0.0539215686274...|\n",
      "|        1|[0.06578947368421...|      151|[1.37837837837837...|\n",
      "|        1|[0.06578947368421...|      157|[2.05, 0.0, 0.0, ...|\n",
      "|        1|[0.06578947368421...|      163|[1.44067796610169...|\n",
      "|        1|[0.06578947368421...|      216|[1.59756097560975...|\n",
      "|        1|[0.06578947368421...|      223|[-0.8370786516853...|\n",
      "|        1|[0.06578947368421...|      231|[1.86885245901639...|\n",
      "|        1|[0.06578947368421...|      235|[0.40163934426229...|\n",
      "|        1|[0.06578947368421...|      260|[0.80786026200873...|\n",
      "|        1|[0.06578947368421...|      296|[-1.1845878136200...|\n",
      "|        1|[0.06578947368421...|      316|[-0.3849206349206...|\n",
      "|        1|[0.06578947368421...|      333|[1.13095238095238...|\n",
      "|        1|[0.06578947368421...|      349|[0.40291262135922...|\n",
      "+---------+--------------------+---------+--------------------+\n",
      "only showing top 20 rows\n",
      "\n"
     ]
    }
   ],
   "source": [
    "\n",
    "# Join DFs\n",
    "df_join = df_movie_s.crossJoin(df_movie_s.select('_1', F.col(\"_2\").alias(\"ratings_2\")))\n",
    "\n",
    "Data_list = [\"movieId_1\",\"ratings_1\",\"movieId_2\",\"ratings_2\"]\n",
    " \n",
    "df_join = df_join.toDF(*Data_list)\n",
    "\n",
    "df_join.show()"
   ]
  },
  {
   "cell_type": "code",
   "execution_count": null,
   "metadata": {
    "scrolled": true
   },
   "outputs": [],
   "source": [
    "JoinedRDD= df_join.rdd.map(lambda x: ((x.movieId_1,x.movieId_2),x.ratings_1,x.ratings_2))\n",
    "\n",
    "JoinedRDD.take(3)"
   ]
  },
  {
   "cell_type": "markdown",
   "metadata": {},
   "source": [
    "The funtion cosine_sim calculates the cosine similarity between lists of ratings. After applying it we obtain the similarities between movies.\n",
    "\n",
    "In the function we sum the multiplication of the ratings of a movie \"i\" and \"j\" given by all users. Then divide this with a multiplication of square roots of the sum of squared ratings of the movie \"i\" and \"j\" by users.\n",
    "\n"
   ]
  },
  {
   "cell_type": "code",
   "execution_count": 34,
   "metadata": {
    "scrolled": true
   },
   "outputs": [],
   "source": [
    "def cosine_sim(item):\n",
    "    rating_1=item[1]\n",
    "    rating_2=item[2]\n",
    "\n",
    "    #prod is the dividend of cosine similarity\n",
    "    prod_list=[]\n",
    "    for n in range(0,item_users_len):\n",
    "        number=rating_1[n]*rating_2[n]\n",
    "        prod_list.append(number)\n",
    "    prod=sum(prod_list)\n",
    "\n",
    "    #prod2 is the divider of cosine similarity\n",
    "    square_1=sqrt(sum([ x**2 for x in rating_1 ]))\n",
    "    square_2=sqrt(sum([ x**2 for x in rating_2 ]))\n",
    "\n",
    "    prod2=square_1*square_2\n",
    "\n",
    "    # if prod2 is 0, we can't use it as the divider, so we change it to a very small number\n",
    "    if prod2==0:\n",
    "        prod2=0.000000000000000001\n",
    "\n",
    "    similarity=prod/prod2\n",
    "\n",
    "    return (item[0],similarity)"
   ]
  },
  {
   "cell_type": "code",
   "execution_count": 35,
   "metadata": {
    "scrolled": true
   },
   "outputs": [
    {
     "name": "stderr",
     "output_type": "stream",
     "text": [
      "                                                                                \r"
     ]
    },
    {
     "data": {
      "text/plain": [
       "[((1, 1), 1.0000000000000002),\n",
       " ((1, 3), 0.10202629136285349),\n",
       " ((1, 6), 0.05443336831241767)]"
      ]
     },
     "execution_count": 35,
     "metadata": {},
     "output_type": "execute_result"
    }
   ],
   "source": [
    "similarityRDD=JoinedRDD.map(lambda data: cosine_sim(data))\n",
    "\n",
    "similarityRDD.take(3)"
   ]
  },
  {
   "cell_type": "markdown",
   "metadata": {},
   "source": [
    "Now similarityRDD is a RDD with a tuple of the 2 movies and their similarity."
   ]
  },
  {
   "cell_type": "markdown",
   "metadata": {},
   "source": [
    "To reduce computation time and to eliminate low similarities, that, probably, would lead to bad predictions, we filter the similarities. We are going to use just movie similarities bigger than 0.3."
   ]
  },
  {
   "cell_type": "code",
   "execution_count": 36,
   "metadata": {},
   "outputs": [],
   "source": [
    "#Correlation values smaller than 0.30 are considered weak\n",
    "similarity_filter_RDD=similarityRDD.filter(lambda x: x[1]>0.30)\n"
   ]
  },
  {
   "cell_type": "markdown",
   "metadata": {},
   "source": [
    "Get movies : rating dictionary, it will be used to predict scores."
   ]
  },
  {
   "cell_type": "code",
   "execution_count": 37,
   "metadata": {
    "scrolled": true
   },
   "outputs": [
    {
     "name": "stderr",
     "output_type": "stream",
     "text": [
      "                                                                                \r"
     ]
    }
   ],
   "source": [
    "# This dictionary has all of the meaningfull similarities between movies, the similarities are duplicated (each similarity appears 2 times, but with the items displaied in a different order)\n",
    "\n",
    "Similarity_Dict=similarity_filter_RDD.collectAsMap()\n"
   ]
  },
  {
   "cell_type": "code",
   "execution_count": 38,
   "metadata": {},
   "outputs": [
    {
     "data": {
      "text/plain": [
       "{(1, 1): 1.0000000000000002,\n",
       " (1, 588): 0.31371537442274644,\n",
       " (3, 3): 1.0,\n",
       " (3, 333): 0.3082037212524729,\n",
       " (3, 1445): 0.30320122861796706,\n",
       " (3, 3450): 0.38779232076307274,\n",
       " (3, 60): 0.45413239235055713,\n",
       " (3, 210): 0.3355340596741378,\n",
       " (3, 267): 0.35922256556028104,\n",
       " (3, 419): 0.5062484850523314,\n",
       " (3, 432): 0.3237997117475652,\n",
       " (3, 468): 0.3391973996135204,\n",
       " (3, 569): 0.32508822979398017,\n",
       " (3, 575): 0.3810103428632064,\n",
       " (3, 700): 0.33209259372883104,\n",
       " (3, 1006): 0.30435641875970204,\n",
       " (3, 653): 0.3086286257552039,\n",
       " (3, 325): 0.33808673306389264,\n",
       " (3, 1461): 0.3362558108259908,\n",
       " (3, 2133): 0.3566323175873372,\n",
       " (3, 2418): 0.3872041148890987,\n",
       " (3, 3361): 0.40053537642405773,\n",
       " (3, 3698): 0.31140381421187596,\n",
       " (3, 663): 0.3150034658779544,\n",
       " (3, 1615): 0.31204227413696295,\n",
       " (3, 387): 0.3387398093328951,\n",
       " (3, 3388): 0.3194299174426109,\n",
       " (3, 2917): 0.30865227664274647,\n",
       " (3, 2889): 0.37180613126185214,\n",
       " (3, 2879): 0.30085878410422257,\n",
       " (3, 577): 0.3933218648888617,\n",
       " (3, 3412): 0.37378696263018163,\n",
       " (3, 1439): 0.32318723887200607,\n",
       " (6, 6): 1.0,\n",
       " (6, 293): 0.3989114525242416,\n",
       " (6, 95377): 0.3603460587869612,\n",
       " (47, 47): 1.0,\n",
       " (50, 50): 0.9999999999999999,\n",
       " (70, 70): 1.0,\n",
       " (70, 1037): 0.3629728026109235,\n",
       " (70, 4235): 0.30040378047538746,\n",
       " (70, 3272): 0.38283407314939255,\n",
       " (70, 2155): 0.33386337458012955,\n",
       " (70, 3901): 0.3474209460521861,\n",
       " (70, 3937): 0.397052509773927,\n",
       " (101, 101): 0.9999999999999999,\n",
       " (101, 2116): 0.35040927266479627,\n",
       " (101, 1734): 0.31588730712772084,\n",
       " (101, 3083): 0.49397115151530396,\n",
       " (101, 11): 0.307423215000828,\n",
       " (101, 3735): 0.36163055613345724,\n",
       " (101, 3466): 0.33762105839448164,\n",
       " (101, 1633): 0.3226226123305515,\n",
       " (101, 8645): 0.32143686243407893,\n",
       " (101, 4037): 0.35708383209458466,\n",
       " (101, 8364): 0.3104732646373316,\n",
       " (101, 2348): 0.41812404615429,\n",
       " (101, 1993): 0.40634530389809626,\n",
       " (101, 2323): 0.3667116837740426,\n",
       " (101, 2937): 0.3880911672511507,\n",
       " (101, 6122): 0.36671168377404256,\n",
       " (101, 43708): 0.31254065569522177,\n",
       " (101, 6436): 0.3495289577469784,\n",
       " (110, 110): 1.0,\n",
       " (151, 151): 1.0,\n",
       " (151, 8951): 0.3743109719806079,\n",
       " (151, 27728): 0.3241628106504516,\n",
       " (151, 27808): 0.30863282153892524,\n",
       " (151, 8948): 0.3839581619801082,\n",
       " (151, 7450): 0.4179363883066713,\n",
       " (151, 3211): 0.32416281065045166,\n",
       " (151, 8943): 0.3241628106504517,\n",
       " (151, 2068): 0.32416281065045166,\n",
       " (151, 6320): 0.32416281065045166,\n",
       " (151, 8268): 0.32416281065045166,\n",
       " (157, 157): 1.0000000000000002,\n",
       " (157, 1023): 0.31685488401927986,\n",
       " (157, 1024): 0.39849964533838433,\n",
       " (157, 1049): 0.31070222439352163,\n",
       " (157, 1226): 0.48362537227553043,\n",
       " (157, 1445): 0.6177245306202229,\n",
       " (157, 1587): 0.32919133698211894,\n",
       " (157, 1804): 0.37164734903073626,\n",
       " (157, 1920): 0.32728199110536943,\n",
       " (157, 2033): 0.3969061504106783,\n",
       " (157, 2090): 0.3271929967827687,\n",
       " (157, 2096): 0.4511611802210672,\n",
       " (157, 2099): 0.522356532876495,\n",
       " (157, 2116): 0.43996686858594314,\n",
       " (157, 2137): 0.4490251570716571,\n",
       " (157, 2139): 0.39231508660034253,\n",
       " (157, 2143): 0.46287686191993094,\n",
       " (157, 2387): 0.30397587249175767,\n",
       " (157, 2654): 0.35879905791249644,\n",
       " (157, 2899): 0.42210628919312726,\n",
       " (157, 2949): 0.3492487163534547,\n",
       " (157, 2991): 0.3956593134460759,\n",
       " (157, 2993): 0.3943247797382047,\n",
       " (157, 3053): 0.4454444218327254,\n",
       " (157, 3243): 0.3556852859634249,\n",
       " (157, 3273): 0.3736143870653151,\n",
       " (157, 3441): 0.3650429396920758,\n",
       " (157, 3448): 0.41146211070015704,\n",
       " (157, 3479): 0.39002069170989734,\n",
       " (157, 4029): 0.3100543990772062,\n",
       " (157, 61): 0.32285893166367746,\n",
       " (157, 209): 0.5089140699539502,\n",
       " (157, 210): 0.3060270596650173,\n",
       " (157, 267): 0.32571210273920537,\n",
       " (157, 274): 0.370933246170869,\n",
       " (157, 354): 0.31606338815238283,\n",
       " (157, 458): 0.45717492132220994,\n",
       " (157, 1006): 0.37480507183177775,\n",
       " (157, 1840): 0.33017852904446543,\n",
       " (157, 3952): 0.36763771955722185,\n",
       " (157, 6709): 0.38859382092397937,\n",
       " (157, 96432): 0.32622594172391417,\n",
       " (157, 1257): 0.3336909856009965,\n",
       " (157, 1689): 0.4477113292049253,\n",
       " (157, 1963): 0.3344025956207886,\n",
       " (157, 2134): 0.33894857517317134,\n",
       " (157, 2335): 0.3009726296779745,\n",
       " (157, 2622): 0.5429599581795719,\n",
       " (157, 2836): 0.3060270596650173,\n",
       " (157, 3104): 0.30573180302171854,\n",
       " (157, 3505): 0.36299879710725147,\n",
       " (157, 7587): 0.3060270596650173,\n",
       " (157, 8012): 0.3533696105538147,\n",
       " (157, 147): 0.36528347962517527,\n",
       " (157, 3271): 0.3685227707292153,\n",
       " (157, 3950): 0.33273094819141796,\n",
       " (157, 6974): 0.3046289746153576,\n",
       " (157, 26649): 0.3060270596650173,\n",
       " (157, 26812): 0.3060270596650173,\n",
       " (157, 47894): 0.31339793044344766,\n",
       " (157, 59129): 0.3060270596650173,\n",
       " (157, 69849): 0.3533696105538147,\n",
       " (157, 26729): 0.37480507183177775,\n",
       " (157, 94): 0.3064518024921382,\n",
       " (157, 562): 0.3043159162795301,\n",
       " (157, 994): 0.3136805205447287,\n",
       " (157, 1487): 0.3581690633639403,\n",
       " (157, 1633): 0.3533696105538147,\n",
       " (157, 27193): 0.30989281786943784,\n",
       " (157, 2794): 0.3161590060839788,\n",
       " (157, 3861): 0.39059876088160755,\n",
       " (157, 1431): 0.3002494612906927,\n",
       " (157, 2306): 0.4115536319632991,\n",
       " (157, 3298): 0.3103815182809825,\n",
       " (157, 4359): 0.4945302150832541,\n",
       " (157, 4654): 0.345462842063484,\n",
       " (157, 1615): 0.3351361788167508,\n",
       " (157, 2718): 0.42036947530581287,\n",
       " (157, 3385): 0.38581550011432114,\n",
       " (157, 47423): 0.3060270596650173,\n",
       " (157, 72395): 0.3060270596650173,\n",
       " (157, 781): 0.39885295287190203,\n",
       " (157, 4591): 0.3060270596650173,\n",
       " (157, 8623): 0.31954890433718225,\n",
       " (157, 2681): 0.3060270596650173,\n",
       " (157, 3774): 0.365630918850689,\n",
       " (157, 171763): 0.4908063453103291,\n",
       " (157, 8832): 0.3060270596650173,\n",
       " (157, 26504): 0.3060270596650173,\n",
       " (157, 4585): 0.35336961055381483,\n",
       " (157, 6832): 0.42274273761719605,\n",
       " (157, 8605): 0.3060270596650173,\n",
       " (157, 4141): 0.35946219004612195,\n",
       " (157, 26871): 0.3060270596650173,\n",
       " (157, 74668): 0.3060270596650173,\n",
       " (157, 83803): 0.3629972117087022,\n",
       " (157, 89470): 0.3822438859179869,\n",
       " (157, 91077): 0.3060270596650173,\n",
       " (157, 6305): 0.3282900887147997,\n",
       " (157, 6791): 0.32277617973386713,\n",
       " (157, 8183): 0.3533696105538147,\n",
       " (157, 27397): 0.32622594172391417,\n",
       " (157, 1480): 0.32091184116444604,\n",
       " (157, 911): 0.31657971689484543,\n",
       " (157, 33090): 0.3060270596650173,\n",
       " (157, 47725): 0.3060270596650173,\n",
       " (157, 51575): 0.3586375146072608,\n",
       " (157, 117109): 0.3060270596650173,\n",
       " (157, 128852): 0.3060270596650173,\n",
       " (157, 130518): 0.34700206899855485,\n",
       " (157, 1366): 0.33203580052233495,\n",
       " (157, 2625): 0.3060270596650173,\n",
       " (157, 4587): 0.33506971650993617,\n",
       " (157, 4774): 0.3265645341303072,\n",
       " (157, 6731): 0.34627107583575456,\n",
       " (157, 7802): 0.37432231671534527,\n",
       " (157, 2114): 0.33687262058521134,\n",
       " (157, 6051): 0.34302483654990934,\n",
       " (157, 70728): 0.35336961055381494,\n",
       " (157, 32300): 0.33390289657612127,\n",
       " (157, 3629): 0.46127234196010086,\n",
       " (157, 9010): 0.3629972117087022,\n",
       " (157, 26662): 0.31606338815238283,\n",
       " (157, 88235): 0.3060270596650173,\n",
       " (157, 98491): 0.300512606918509,\n",
       " (157, 159817): 0.336232092999331,\n",
       " (157, 4228): 0.308122721814761,\n",
       " (157, 5363): 0.3046289746153576,\n",
       " (157, 44840): 0.34850169663499975,\n",
       " (157, 168326): 0.5276328614914091,\n",
       " (157, 172215): 0.3060270596650173,\n",
       " (157, 3296): 0.33177278142109057,\n",
       " (157, 121231): 0.35336961055381483,\n",
       " (157, 81782): 0.38466362712614616,\n",
       " (157, 75985): 0.3060270596650173,\n",
       " (157, 139855): 0.3060270596650173,\n",
       " (157, 6093): 0.4160748831917178,\n",
       " (157, 6774): 0.3551189702927383,\n",
       " (157, 1401): 0.35946219004612195,\n",
       " (157, 1465): 0.35336961055381483,\n",
       " (157, 3906): 0.3060270596650173,\n",
       " (157, 5553): 0.514868028585664,\n",
       " (157, 37727): 0.33822267199390244,\n",
       " (157, 634): 0.32622594172391417,\n",
       " (157, 885): 0.3060270596650173,\n",
       " (157, 177615): 0.3060270596650173,\n",
       " (157, 764): 0.3060270596650173,\n",
       " (157, 2361): 0.32142207666233885,\n",
       " (157, 4205): 0.532457488231486,\n",
       " (157, 6322): 0.3238726199716593,\n",
       " (157, 4440): 0.3060270596650173,\n",
       " (157, 5993): 0.3491362668363299,\n",
       " (157, 5146): 0.3110638746637595,\n",
       " (157, 6005): 0.35336961055381483,\n",
       " (157, 4920): 0.34302483654990923,\n",
       " (157, 8718): 0.3060270596650173,\n",
       " (157, 27772): 0.3801381726893681,\n",
       " (157, 2691): 0.4139954923878216,\n",
       " (157, 3598): 0.3060270596650173,\n",
       " (157, 4133): 0.300512606918509,\n",
       " (157, 5131): 0.3060270596650173,\n",
       " (157, 5999): 0.3060270596650173,\n",
       " (157, 6217): 0.3060270596650173,\n",
       " (157, 8042): 0.3060270596650173,\n",
       " (157, 106873): 0.3060270596650173,\n",
       " (157, 2208): 0.338709886964995,\n",
       " (157, 3068): 0.3190552651583027,\n",
       " (157, 2810): 0.354804828107769,\n",
       " (157, 7844): 0.3060270596650173,\n",
       " (157, 8491): 0.3533696105538147,\n",
       " (157, 32387): 0.3060270596650173,\n",
       " (157, 33896): 0.33390289657612127,\n",
       " (157, 429): 0.3161925493826159,\n",
       " (157, 564): 0.42210628919312726,\n",
       " (157, 26375): 0.3533696105538147,\n",
       " (157, 26322): 0.32919506724790093,\n",
       " (157, 1887): 0.3060270596650173,\n",
       " (157, 6523): 0.3060270596650173,\n",
       " (157, 6374): 0.3594621900461219,\n",
       " (157, 31114): 0.3060270596650173,\n",
       " (157, 45208): 0.3060270596650173,\n",
       " (157, 50005): 0.3060270596650173,\n",
       " (157, 4957): 0.3060270596650173,\n",
       " (157, 547): 0.3060270596650173,\n",
       " (157, 4531): 0.3533696105538147,\n",
       " (157, 27478): 0.35336961055381483,\n",
       " (157, 66171): 0.3060270596650173,\n",
       " (157, 85510): 0.3091157472126654,\n",
       " (157, 90430): 0.34302483654990934,\n",
       " (157, 110882): 0.3060270596650173,\n",
       " (157, 3181): 0.34700206899855485,\n",
       " (157, 2448): 0.34302483654990923,\n",
       " (157, 3511): 0.33519519026517064,\n",
       " (157, 4683): 0.3060270596650173,\n",
       " (157, 4771): 0.4207178122131063,\n",
       " (157, 5076): 0.3060270596650173,\n",
       " (157, 6559): 0.36338546720091675,\n",
       " (157, 26629): 0.3060270596650173,\n",
       " (157, 26870): 0.3060270596650173,\n",
       " (157, 27311): 0.3060270596650173,\n",
       " (157, 27317): 0.3103680858455364,\n",
       " (157, 34323): 0.336232092999331,\n",
       " (157, 51091): 0.3594621900461219,\n",
       " (157, 2323): 0.3060270596650173,\n",
       " (157, 2937): 0.34700206899855485,\n",
       " (157, 6122): 0.3060270596650173,\n",
       " (157, 4443): 0.3060270596650173,\n",
       " (157, 4506): 0.43257314395380764,\n",
       " (157, 5428): 0.35336961055381483,\n",
       " (157, 45440): 0.3051016787372908,\n",
       " (157, 2439): 0.3060270596650173,\n",
       " (157, 2932): 0.3533696105538147,\n",
       " (157, 7720): 0.3490688059683095,\n",
       " (157, 87522): 0.3060270596650173,\n",
       " (157, 1439): 0.34302483654990923,\n",
       " (157, 79251): 0.30602705966501736,\n",
       " (157, 2445): 0.3124195254522916,\n",
       " (157, 3051): 0.35946219004612195,\n",
       " (157, 3145): 0.48358350538610645,\n",
       " (157, 3943): 0.37578659234653067,\n",
       " (157, 4520): 0.3594621900461219,\n",
       " (157, 34326): 0.42210628919312726,\n",
       " (157, 2275): 0.4090138401839522,\n",
       " (157, 4275): 0.49986517933833463,\n",
       " (157, 82667): 0.3533696105538147,\n",
       " (157, 7124): 0.3533696105538147,\n",
       " (157, 32554): 0.33390289657612127,\n",
       " (157, 54185): 0.3060270596650173,\n",
       " (157, 95873): 0.34700206899855485,\n",
       " (157, 171495): 0.3060270596650173,\n",
       " (157, 26555): 0.3060270596650173,\n",
       " (157, 90471): 0.3060270596650173,\n",
       " (157, 73854): 0.33390289657612127,\n",
       " (157, 55167): 0.35336961055381494,\n",
       " (157, 1601): 0.42648056446150057,\n",
       " (157, 7225): 0.3060270596650173,\n",
       " (157, 26585): 0.33390289657612127,\n",
       " (157, 40614): 0.5089140699539502,\n",
       " (157, 44020): 0.3060270596650173,\n",
       " (157, 58404): 0.3060270596650173,\n",
       " (157, 63222): 0.3060270596650173,\n",
       " (157, 84414): 0.3060270596650173,\n",
       " (157, 95497): 0.3060270596650173,\n",
       " (157, 104419): 0.3060270596650173,\n",
       " (157, 4632): 0.3060270596650173,\n",
       " (157, 50003): 0.3060270596650173,\n",
       " (157, 1770): 0.3060270596650173,\n",
       " (157, 2071): 0.3060270596650173,\n",
       " (157, 2074): 0.3533696105538147,\n",
       " (157, 4392): 0.3060270596650173,\n",
       " (157, 6035): 0.3060270596650173,\n",
       " (157, 7102): 0.3060270596650173,\n",
       " (157, 26242): 0.3963455932014201,\n",
       " (157, 26631): 0.3060270596650173,\n",
       " (157, 4175): 0.4652752615842758,\n",
       " (157, 1484): 0.5276328614914091,\n",
       " (157, 2119): 0.43257314395380764,\n",
       " (157, 2552): 0.5276328614914091,\n",
       " (157, 4125): 0.5276328614914091,\n",
       " (157, 4617): 0.5276328614914091,\n",
       " (157, 5471): 0.4813137798922649,\n",
       " (157, 5521): 0.5276328614914091,\n",
       " (157, 6308): 0.4039624142839789,\n",
       " (157, 6517): 0.5276328614914091,\n",
       " (157, 6582): 0.4934150358254853,\n",
       " (157, 6720): 0.5276328614914091,\n",
       " (157, 6810): 0.35182851570415924,\n",
       " (157, 6851): 0.5276328614914091,\n",
       " (157, 8119): 0.5276328614914091,\n",
       " (157, 44864): 0.38226124711473186,\n",
       " (157, 87304): 0.43257314395380764,\n",
       " (157, 178061): 0.5276328614914091,\n",
       " (157, 179817): 0.5276328614914091,\n",
       " (157, 80880): 0.3060270596650173,\n",
       " (157, 2540): 0.3060270596650173,\n",
       " (157, 3865): 0.35336961055381483,\n",
       " (157, 6992): 0.3060270596650173,\n",
       " (157, 2472): 0.3060270596650173,\n",
       " (157, 26700): 0.3060270596650173,\n",
       " (157, 66785): 0.30366388098133024,\n",
       " (157, 3240): 0.3060270596650173,\n",
       " (157, 6966): 0.35336961055381494,\n",
       " (157, 45382): 0.3060270596650173,\n",
       " (157, 4113): 0.3060270596650173,\n",
       " (157, 4292): 0.3060270596650173,\n",
       " (157, 4578): 0.3060270596650173,\n",
       " (157, 6581): 0.3060270596650173,\n",
       " (157, 6850): 0.3060270596650173,\n",
       " (157, 7019): 0.3060270596650173,\n",
       " (157, 8451): 0.3060270596650173,\n",
       " (157, 8809): 0.3060270596650173,\n",
       " (157, 8169): 0.3060270596650173,\n",
       " (157, 93723): 0.3060270596650173,\n",
       " (157, 56286): 0.3060270596650173,\n",
       " (157, 51024): 0.34302483654990923,\n",
       " (157, 85179): 0.33390289657612127,\n",
       " (157, 8477): 0.3060270596650173,\n",
       " (157, 114627): 0.3060270596650173,\n",
       " (157, 4200): 0.3060270596650173,\n",
       " (157, 6723): 0.3060270596650173,\n",
       " (157, 6994): 0.30602705966501736,\n",
       " (157, 7782): 0.3060270596650173,\n",
       " (157, 129397): 0.3060270596650173,\n",
       " (157, 731): 0.3060270596650173,\n",
       " (157, 1609): 0.3060270596650173,\n",
       " (157, 2586): 0.3060270596650173,\n",
       " (157, 3571): 0.3060270596650173,\n",
       " (157, 4285): 0.5276328614914091,\n",
       " (157, 4574): 0.3060270596650173,\n",
       " (157, 4593): 0.5276328614914091,\n",
       " (157, 5096): 0.3060270596650173,\n",
       " (157, 5136): 0.3060270596650173,\n",
       " (157, 7307): 0.3060270596650173,\n",
       " (157, 7657): 0.3060270596650173,\n",
       " (157, 26159): 0.3060270596650173,\n",
       " (157, 26413): 0.3060270596650173,\n",
       " (157, 26510): 0.3060270596650173,\n",
       " (157, 26542): 0.3060270596650173,\n",
       " (157, 26547): 0.3060270596650173,\n",
       " (157, 27032): 0.3060270596650173,\n",
       " (157, 32291): 0.3060270596650173,\n",
       " (157, 39801): 0.3060270596650173,\n",
       " (157, 42946): 0.3060270596650173,\n",
       " (157, 53022): 0.3060270596650173,\n",
       " (157, 62970): 0.3060270596650173,\n",
       " (157, 73569): 0.3060270596650173,\n",
       " (157, 86898): 0.3060270596650173,\n",
       " (157, 92309): 0.3060270596650173,\n",
       " (163, 163): 1.0,\n",
       " (163, 281): 0.305903334376003,\n",
       " (216, 216): 1.0,\n",
       " (216, 1226): 0.4073161217542161,\n",
       " (216, 104): 0.41148714157567845,\n",
       " (216, 195): 0.3420456684967961,\n",
       " (216, 273): 0.33675051626549973,\n",
       " (216, 3254): 0.3042751871545278,\n",
       " (216, 3798): 0.340310231799197,\n",
       " (216, 2106): 0.3068929488876873,\n",
       " (216, 4929): 0.3460003077042758,\n",
       " (216, 4326): 0.33421433670885503,\n",
       " (216, 949): 0.3247378237062505,\n",
       " (216, 4214): 0.310885137821795,\n",
       " (216, 5247): 0.36981174679933654,\n",
       " (216, 973): 0.3080733495953922,\n",
       " (216, 7051): 0.31410683151481766,\n",
       " (223, 223): 1.0,\n",
       " (223, 357): 0.3074463921093523,\n",
       " (223, 1378): 0.30075469105250363,\n",
       " (223, 33672): 0.3599229999758693,\n",
       " (231, 231): 1.0,\n",
       " (235, 235): 1.0,\n",
       " (260, 260): 1.0,\n",
       " (260, 1196): 0.5036231173025696,\n",
       " (260, 1210): 0.45125490632141707,\n",
       " (296, 296): 0.9999999999999998,\n",
       " (316, 316): 1.0000000000000002,\n",
       " (333, 3): 0.3082037212524729,\n",
       " (333, 333): 1.0,\n",
       " (333, 1049): 0.32033391726195826,\n",
       " (333, 2899): 0.4146480032644941,\n",
       " (333, 267): 0.30589798230666837,\n",
       " (333, 304): 0.35008540536258403,\n",
       " (333, 378): 0.36723867474871386,\n",
       " (333, 419): 0.34911978377137,\n",
       " (333, 445): 0.4137982527891727,\n",
       " (333, 472): 0.30035760125299643,\n",
       " (333, 881): 0.3222470003191887,\n",
       " (333, 2072): 0.3438807044078606,\n",
       " (333, 372): 0.30142365973788987,\n",
       " (333, 1379): 0.3679007144480919,\n",
       " (333, 1911): 0.3122901701091179,\n",
       " (333, 1919): 0.3839529242918619,\n",
       " (333, 2092): 0.3129004294802135,\n",
       " (333, 2111): 0.32764596686524744,\n",
       " (333, 2133): 0.35019814700257695,\n",
       " (333, 2263): 0.3306248903662312,\n",
       " (333, 2900): 0.31098600244837055,\n",
       " (333, 3031): 0.3546763219098155,\n",
       " (333, 3072): 0.36788903695371666,\n",
       " (333, 3424): 0.3543579255535661,\n",
       " (333, 3699): 0.38892912179744127,\n",
       " (333, 663): 0.3730519296192495,\n",
       " (333, 2408): 0.3202516436707121,\n",
       " (333, 2879): 0.36545191604564664,\n",
       " (333, 2750): 0.3130915425278734,\n",
       " (333, 2779): 0.3136192924850094,\n",
       " (333, 1837): 0.3170414221855756,\n",
       " (333, 3524): 0.3110398863825121,\n",
       " (333, 577): 0.41655007436466385,\n",
       " (333, 3412): 0.42966266709225154,\n",
       " (349, 349): 0.9999999999999999,\n",
       " (356, 356): 1.0,\n",
       " (367, 367): 1.0,\n",
       " (423, 423): 1.0000000000000002,\n",
       " (423, 3729): 0.4065578140908709,\n",
       " (423, 759): 0.4675414862045015,\n",
       " (423, 3365): 0.48219103980874145,\n",
       " (423, 4021): 0.3181216874398692,\n",
       " (423, 46): 0.3422810203590081,\n",
       " (423, 205): 0.3024116491930133,\n",
       " (423, 302): 0.5913983988105669,\n",
       " (423, 352): 0.3455741419772403,\n",
       " (423, 426): 0.6035934632436998,\n",
       " (423, 8908): 0.3000423788672832,\n",
       " (423, 7149): 0.31311114018311126,\n",
       " (423, 69406): 0.31695071472670067,\n",
       " (423, 511): 0.3455741419772403,\n",
       " (423, 3513): 0.38653085716192814,\n",
       " (423, 68073): 0.36838327311761526,\n",
       " (423, 162350): 0.39241669892314274,\n",
       " (423, 118): 0.4065578140908709,\n",
       " (423, 674): 0.35613871087012705,\n",
       " (423, 742): 0.3619834710743802,\n",
       " (423, 1845): 0.3201669674597016,\n",
       " (423, 2044): 0.4065578140908709,\n",
       " (423, 2171): 0.35505753525109224,\n",
       " (423, 2244): 0.4065578140908709,\n",
       " (423, 2936): 0.35342814288647056,\n",
       " (423, 3225): 0.33060175538123965,\n",
       " (423, 3584): 0.4675414862045015,\n",
       " (423, 4519): 0.3967900071276485,\n",
       " (423, 4990): 0.3278404167319448,\n",
       " (423, 1809): 0.523181620725024,\n",
       " (423, 6790): 0.3455741419772403,\n",
       " (423, 3272): 0.39998305882117696,\n",
       " (423, 6884): 0.3455741419772403,\n",
       " (423, 7842): 0.4099063988448504,\n",
       " (423, 43396): 0.3984861462977211,\n",
       " (423, 612): 0.4481366379587724,\n",
       " (423, 1104): 0.31054627484268427,\n",
       " (423, 994): 0.38284663306678846,\n",
       " (423, 1537): 0.31063951798390643,\n",
       " (423, 2342): 0.3455741419772403,\n",
       " (423, 3019): 0.4485426135725303,\n",
       " (423, 199): 0.374332775066067,\n",
       " (423, 218): 0.3154062543657648,\n",
       " (423, 228): 0.3990346477910673,\n",
       " (423, 408): 0.3455741419772403,\n",
       " (423, 4482): 0.3455741419772403,\n",
       " (423, 4516): 0.3455741419772403,\n",
       " (423, 4577): 0.3770523009119334,\n",
       " (423, 4474): 0.302234201475751,\n",
       " (423, 3221): 0.5136880792261769,\n",
       " (423, 2159): 0.32627997796464236,\n",
       " (423, 3614): 0.3370910268675409,\n",
       " (423, 4267): 0.3016418407295467,\n",
       " (423, 942): 0.5726190373917647,\n",
       " (423, 49130): 0.39903464779106723,\n",
       " (423, 365): 0.36838327311761526,\n",
       " (423, 4773): 0.8131156281817418,\n",
       " (423, 2956): 0.6562837667705673,\n",
       " (423, 5644): 0.3455741419772403,\n",
       " (423, 7010): 0.3455741419772403,\n",
       " (423, 8781): 0.3320829068954488,\n",
       " (423, 45928): 0.38248048618726904,\n",
       " (423, 78467): 0.4232401580721739,\n",
       " (423, 3576): 0.33060175538123965,\n",
       " (423, 326): 0.4675414862045015,\n",
       " (423, 931): 0.3450931877427347,\n",
       " (423, 1190): 0.3757345746510898,\n",
       " (423, 950): 0.31302853164404254,\n",
       " (423, 5529): 0.3455741419772403,\n",
       " (423, 184791): 0.3455741419772403,\n",
       " (423, 766): 0.33060175538123965,\n",
       " (423, 464): 0.3142857142857143,\n",
       " (423, 4599): 0.3455741419772403,\n",
       " (423, 2103): 0.3455741419772403,\n",
       " (423, 4126): 0.39903464779106723,\n",
       " (423, 5027): 0.3727272727272728,\n",
       " (423, 2600): 0.3015173456394958,\n",
       " (423, 2551): 0.5119700588943168,\n",
       " (423, 4663): 0.39417806139614314,\n",
       " (423, 6169): 0.3455741419772403,\n",
       " (423, 45175): 0.4232401580721739,\n",
       " (423, 4024): 0.4675414862045015,\n",
       " (423, 4649): 0.30660867466234154,\n",
       " (423, 2844): 0.4675414862045015,\n",
       " (423, 3251): 0.38248048618726904,\n",
       " (423, 4062): 0.3136956465711407,\n",
       " (423, 501): 0.36501901639475093,\n",
       " (423, 142509): 0.3455741419772403,\n",
       " (423, 390): 0.3569147584096094,\n",
       " (423, 1344): 0.5275955275460418,\n",
       " (423, 4736): 0.4361790596422001,\n",
       " (423, 4822): 0.3455741419772403,\n",
       " (423, 5107): 0.30052038200428277,\n",
       " (423, 5256): 0.3455741419772403,\n",
       " (423, 5282): 0.3455741419772403,\n",
       " (423, 75): 0.34497574474564147,\n",
       " (423, 869): 0.39903464779106723,\n",
       " (423, 1836): 0.3455741419772403,\n",
       " (423, 2734): 0.43501686107723175,\n",
       " (423, 2779): 0.32395513661588377,\n",
       " (423, 3223): 0.4675414862045015,\n",
       " (423, 3341): 0.3745284323455071,\n",
       " (423, 5788): 0.3873530455031478,\n",
       " (423, 1627): 0.3229390805464634,\n",
       " (423, 2531): 0.3506561146533761,\n",
       " (423, 3649): 0.31754881880659036,\n",
       " (423, 3858): 0.3455741419772403,\n",
       " (423, 5415): 0.37173609102364485,\n",
       " (423, 6568): 0.34557414197724023,\n",
       " (423, 1051): 0.3455741419772403,\n",
       " (423, 1454): 0.3136607082262874,\n",
       " (423, 5387): 0.3918442453741305,\n",
       " (423, 48412): 0.3455741419772403,\n",
       " (423, 166): 0.38771926544231494,\n",
       " (423, 1432): 0.36943429743063083,\n",
       " (423, 1437): 0.4675414862045015,\n",
       " (423, 1611): 0.31786288620291026,\n",
       " (423, 2563): 0.3873530455031479,\n",
       " (423, 2607): 0.3455741419772403,\n",
       " (423, 3747): 0.3455741419772403,\n",
       " (423, 3992): 0.3000423788672832,\n",
       " (423, 5083): 0.3455741419772403,\n",
       " (423, 5298): 0.39903464779106745,\n",
       " (423, 5347): 0.3455741419772403,\n",
       " (423, 5423): 0.3455741419772403,\n",
       " (423, 5425): 0.3455741419772403,\n",
       " (423, 5646): 0.3455741419772403,\n",
       " (423, 7354): 0.31688045559878897,\n",
       " (423, 180497): 0.3455741419772403,\n",
       " (423, 2266): 0.37173609102364485,\n",
       " (423, 4640): 0.3455741419772403,\n",
       " (423, 33421): 0.39903464779106723,\n",
       " (423, 46572): 0.3918442453741305,\n",
       " (423, 2575): 0.3207101436553356,\n",
       " (423, 3436): 0.39241669892314274,\n",
       " (423, 2165): 0.4675414862045015,\n",
       " (423, 1312): 0.4675414862045015,\n",
       " (423, 2024): 0.5398704058349731,\n",
       " (423, 5949): 0.3455741419772403,\n",
       " (423, 161922): 0.3455741419772403,\n",
       " (423, 3165): 0.4065578140908709,\n",
       " (423, 2747): 0.33060175538123965,\n",
       " (423, 2430): 0.3455741419772403,\n",
       " (423, 8836): 0.3770523009119334,\n",
       " (423, 31445): 0.3455741419772403,\n",
       " (423, 37853): 0.3455741419772403,\n",
       " (423, 5820): 0.3455741419772403,\n",
       " (423, 1415): 0.4675414862045015,\n",
       " (423, 388): 0.4675414862045015,\n",
       " (423, 2130): 0.6689698507085539,\n",
       " (423, 2593): 0.7194308627944016,\n",
       " (423, 5508): 0.3983436781855754,\n",
       " (423, 3786): 0.3455741419772403,\n",
       " (423, 7228): 0.34497574474564147,\n",
       " (423, 7236): 0.3455741419772403,\n",
       " (423, 53468): 0.31790684194535546,\n",
       " (423, 556): 0.666591888761728,\n",
       " (423, 1904): 0.5411809495441866,\n",
       " (423, 4334): 0.39903464779106745,\n",
       " (423, 4345): 0.3455741419772403,\n",
       " (423, 2057): 0.3181216874398692,\n",
       " (423, 2866): 0.3161157410622627,\n",
       " (423, 2902): 0.33060175538123965,\n",
       " (423, 3672): 0.3291867896116908,\n",
       " (423, 1699): 0.4675414862045015,\n",
       " (423, 2066): 0.5309167103077812,\n",
       " (423, 2932): 0.4342435873020438,\n",
       " (423, 278): 0.4675414862045015,\n",
       " (423, 3041): 0.30164184072954664,\n",
       " (423, 5170): 0.3455741419772403,\n",
       " (423, 27555): 0.3455741419772403,\n",
       " (423, 55272): 0.3455741419772403,\n",
       " (423, 4432): 0.5309167103077812,\n",
       " (423, 176751): 0.3455741419772403,\n",
       " (423, 2676): 0.3692116188823392,\n",
       " (423, 4419): 0.4675414862045015,\n",
       " (423, 6223): 0.3455741419772403,\n",
       " (423, 4622): 0.3455741419772403,\n",
       " (423, 3127): 0.3770523009119334,\n",
       " (423, 7310): 0.3770523009119334,\n",
       " (423, 2996): 0.3455741419772403,\n",
       " (423, 2074): 0.4342435873020438,\n",
       " (423, 4426): 0.4675414862045015,\n",
       " (423, 4985): 0.3455741419772403,\n",
       " (423, 5531): 0.3455741419772403,\n",
       " (423, 5984): 0.3455741419772403,\n",
       " (423, 1701): 0.7003286230874419,\n",
       " (423, 1332): 0.668969850708554,\n",
       " (423, 1922): 0.8131156281817418,\n",
       " (423, 2007): 0.3455741419772403,\n",
       " (423, 2260): 0.3455741419772403,\n",
       " (423, 3478): 0.4107919181288747,\n",
       " (423, 3539): 0.8131156281817418,\n",
       " (423, 3581): 0.3455741419772403,\n",
       " (423, 3898): 0.4065578140908709,\n",
       " (423, 4086): 0.36838327311761526,\n",
       " (423, 4462): 0.3455741419772403,\n",
       " (423, 4636): 0.35208939510976534,\n",
       " (423, 4672): 0.3455741419772403,\n",
       " (423, 4847): 0.3455741419772403,\n",
       " (423, 5324): 0.4065578140908709,\n",
       " (423, 5483): 0.3455741419772403,\n",
       " (423, 5633): 0.3455741419772403,\n",
       " (423, 5636): 0.3455741419772403,\n",
       " (423, 5685): 0.3455741419772403,\n",
       " (423, 5880): 0.4065578140908709,\n",
       " (423, 6078): 0.3455741419772403,\n",
       " (423, 6170): 0.3455741419772403,\n",
       " (423, 6269): 0.3455741419772403,\n",
       " (423, 6549): 0.3455741419772403,\n",
       " (423, 6616): 0.34557414197724023,\n",
       " (423, 6812): 0.3455741419772403,\n",
       " (423, 6898): 0.3770523009119334,\n",
       " (423, 7175): 0.4065578140908709,\n",
       " (423, 7340): 0.3120423019349212,\n",
       " (423, 8919): 0.3455741419772403,\n",
       " (423, 33725): 0.4065578140908709,\n",
       " (423, 46347): 0.3455741419772403,\n",
       " (423, 50792): 0.3455741419772403,\n",
       " (423, 54771): 0.3455741419772403,\n",
       " (423, 59037): 0.3016418407295467,\n",
       " (423, 166024): 0.3455741419772403,\n",
       " (423, 166568): 0.3455741419772403,\n",
       " (423, 2540): 0.6098367211363063,\n",
       " (423, 2677): 0.4984008989238324,\n",
       " (423, 3475): 0.4675414862045015,\n",
       " (423, 4433): 0.4675414862045015,\n",
       " (423, 2068): 0.4675414862045015,\n",
       " (423, 2256): 0.4675414862045015,\n",
       " (423, 1112): 0.4675414862045015,\n",
       " (423, 2586): 0.6098367211363063,\n",
       " (423, 3571): 0.6098367211363063,\n",
       " (423, 506): 0.4675414862045015,\n",
       " (423, 1176): 0.4675414862045015,\n",
       " (423, 2283): 0.4675414862045015,\n",
       " (423, 3655): 0.4675414862045015,\n",
       " (423, 4428): 0.4675414862045015,\n",
       " (441, 441): 1.0000000000000002,\n",
       " (441, 599): 0.38102238684800427,\n",
       " (441, 759): 0.47615191669600504,\n",
       " (441, 937): 0.3486112247238608,\n",
       " (441, 1211): 0.43015019580656855,\n",
       " (441, 1279): 0.4869627371102903,\n",
       " (441, 1916): 0.36064079755849876,\n",
       " (441, 1966): 0.40332228191831326,\n",
       " (441, 2282): 0.3518478839839144,\n",
       " (441, 2973): 0.44364724005324113,\n",
       " (441, 3788): 0.3366902491707172,\n",
       " (441, 4252): 0.3486112247238608,\n",
       " (441, 4273): 0.3486112247238608,\n",
       " (441, 32598): 0.3195606865815256,\n",
       " (441, 5025): 0.3052296455129221,\n",
       " (457, 457): 0.9999999999999999,\n",
       " (457, 480): 0.3243706675773651,\n",
       " (457, 474): 0.3306966666159641,\n",
       " (480, 457): 0.3243706675773651,\n",
       " (480, 480): 1.0000000000000002,\n",
       " (480, 2000): 0.35141268149820165,\n",
       " (500, 500): 1.0,\n",
       " (500, 2797): 0.3607360867813937,\n",
       " (543, 543): 1.0,\n",
       " (543, 2889): 0.3185110286353031,\n",
       " (543, 577): 0.3007242708500755,\n",
       " (543, 2460): 0.30650301691644405,\n",
       " (552, 552): 0.9999999999999998,\n",
       " (552, 1616): 0.30569121120702003,\n",
       " (552, 2269): 0.32470543734895874,\n",
       " (552, 393): 0.32888260849838785,\n",
       " (552, 1707): 0.37615866080977656,\n",
       " (552, 1605): 0.3009989262907404,\n",
       " (552, 4200): 0.34297602307513997,\n",
       " (552, 6723): 0.3429760230751399,\n",
       " (552, 6994): 0.3429760230751399,\n",
       " (552, 7782): 0.34297602307513997,\n",
       " (553, 553): 1.0,\n",
       " (553, 1457): 0.30988060307505144,\n",
       " (590, 590): 1.0000000000000002,\n",
       " (592, 592): 0.9999999999999999,\n",
       " (593, 593): 1.0,\n",
       " (596, 596): 1.0,\n",
       " (596, 1025): 0.3798941579689477,\n",
       " (596, 1032): 0.4005527385713568,\n",
       " (596, 1226): 0.30268194366694895,\n",
       " (596, 2018): 0.34387810798545315,\n",
       " (596, 531): 0.4068003270645158,\n",
       " (596, 594): 0.5162631035005804,\n",
       " (596, 2087): 0.3059826756220586,\n",
       " (596, 5103): 0.31920920374662126,\n",
       " (596, 5785): 0.37975108510799155,\n",
       " (596, 953): 0.41682589182562185,\n",
       " (596, 4679): 0.31714712886346863,\n",
       " (596, 522): 0.3267470868061385,\n",
       " (596, 6331): 0.33035468060429896,\n",
       " (596, 2247): 0.32199769415931523,\n",
       " (596, 63): 0.3243417524798132,\n",
       " (596, 6868): 0.3408271837249737,\n",
       " (596, 4733): 0.3208295203511094,\n",
       " (596, 4725): 0.3541862003249577,\n",
       " (648, 648): 0.9999999999999999,\n",
       " (648, 1101): 0.30650831193236905,\n",
       " (661, 661): 1.0000000000000002,\n",
       " (661, 70521): 0.3014596845195449,\n",
       " (661, 8008): 0.31936931913938665,\n",
       " (733, 733): 0.9999999999999998,\n",
       " (733, 780): 0.3356786761391927,\n",
       " (733, 786): 0.30021193542808117,\n",
       " (736, 736): 1.0000000000000002,\n",
       " (736, 780): 0.43746367128126923,\n",
       " (736, 377): 0.3470682493686101,\n",
       " (736, 95): 0.3027919462068072,\n",
       " (780, 733): 0.3356786761391927,\n",
       " (780, 736): 0.43746367128126923,\n",
       " (780, 780): 1.0,\n",
       " (804, 804): 1.0,\n",
       " (804, 1298): 0.4412715601935762,\n",
       " (804, 2033): 0.4309583601986486,\n",
       " (804, 2470): 0.3449945149744199,\n",
       " (804, 3253): 0.34818063579326847,\n",
       " (804, 1914): 0.39824125363414586,\n",
       " (804, 3079): 0.3446561747421316,\n",
       " (804, 4239): 0.34209872909712885,\n",
       " (804, 360): 0.4092552605498683,\n",
       " (804, 468): 0.4196584228197129,\n",
       " (804, 848): 0.3640728218472825,\n",
       " (804, 1061): 0.37312095171460496,\n",
       " (804, 3994): 0.3642556468688358,\n",
       " (804, 8373): 0.3074436614052591,\n",
       " (804, 60397): 0.3447002149889081,\n",
       " (804, 59615): 0.3842406133763652,\n",
       " (804, 2015): 0.5034878350069643,\n",
       " (804, 2169): 0.5051836200760063,\n",
       " (804, 2249): 0.3454589064716759,\n",
       " (804, 2374): 0.3167762968124702,\n",
       " (804, 2375): 0.37985437655342547,\n",
       " (804, 2867): 0.3525635762083445,\n",
       " (804, 3501): 0.4958333333333334,\n",
       " (804, 2989): 0.372813490890417,\n",
       " (804, 3635): 0.3530012544183307,\n",
       " (804, 7569): 0.3893305572752836,\n",
       " (804, 714): 0.35177249635333524,\n",
       " (804, 2443): 0.30123203803835463,\n",
       " (804, 2690): 0.3313552418421901,\n",
       " (804, 4155): 0.3262223473346017,\n",
       " (804, 387): 0.3743638672264536,\n",
       " (804, 433): 0.35,\n",
       " (804, 1873): 0.3632995072753774,\n",
       " (804, 1999): 0.5422176684690384,\n",
       " (804, 2183): 0.37002877765965225,\n",
       " (804, 2356): 0.6786479669630366,\n",
       " (804, 2554): 0.3617679758851914,\n",
       " (804, 2613): 0.3784362519153709,\n",
       " (804, 2615): 0.5464721775132014,\n",
       " (804, 2978): 0.45184805705753195,\n",
       " (804, 3115): 0.45184805705753195,\n",
       " (804, 3388): 0.49220819534321575,\n",
       " (804, 3430): 0.45184805705753195,\n",
       " (804, 3918): 0.3167762968124702,\n",
       " (804, 4215): 0.4740454631399771,\n",
       " (804, 4255): 0.334186941218402,\n",
       " (804, 4267): 0.5493502655735358,\n",
       " (804, 4971): 0.5333333333333332,\n",
       " (804, 7000): 0.521749194749951,\n",
       " (804, 7007): 0.372677996249965,\n",
       " (804, 7983): 0.5715476066494082,\n",
       " (804, 34338): 0.3405932880706663,\n",
       " (804, 39414): 0.6618314236520757,\n",
       " (804, 42723): 0.33065744122028073,\n",
       " (804, 45666): 0.4422872418312957,\n",
       " (804, 48877): 0.6391488328363142,\n",
       " (804, 2961): 0.3572172541558802,\n",
       " (804, 5015): 0.33362522087752716,\n",
       " (804, 2131): 0.3726779962499651,\n",
       " (804, 156): 0.372677996249965,\n",
       " (804, 78174): 0.3227486121839514,\n",
       " (804, 2166): 0.3689323936863109,\n",
       " (804, 4703): 0.3681421924136454,\n",
       " (804, 1684): 0.3227486121839514,\n",
       " (804, 5222): 0.367156535511255,\n",
       " (804, 1649): 0.36596252735569995,\n",
       " (804, 3158): 0.3227486121839514,\n",
       " (804, 4811): 0.3227486121839514,\n",
       " (804, 4815): 0.37999999999999995,\n",
       " (804, 1306): 0.3227486121839514,\n",
       " (804, 3129): 0.37267799624996484,\n",
       " (804, 1541): 0.46884090637565246,\n",
       " (804, 3431): 0.372677996249965,\n",
       " (804, 62344): 0.3227486121839514,\n",
       " (804, 2469): 0.3450405505922189,\n",
       " (804, 4803): 0.37267799624996484,\n",
       " (804, 123): 0.38283165689292187,\n",
       " (804, 4529): 0.36649716975523355,\n",
       " (804, 2517): 0.365655170486763,\n",
       " (804, 4030): 0.3042434922296655,\n",
       " (804, 1533): 0.3227486121839514,\n",
       " (804, 42418): 0.3850770231077027,\n",
       " (804, 1419): 0.3227486121839514,\n",
       " (804, 4708): 0.3227486121839514,\n",
       " (804, 92938): 0.3850770231077027,\n",
       " (804, 2188): 0.3227486121839514,\n",
       " (804, 549): 0.3227486121839514,\n",
       " (804, 4802): 0.372677996249965,\n",
       " (804, 568): 0.3227486121839514,\n",
       " (804, 3787): 0.3227486121839514,\n",
       " (804, 1413): 0.3227486121839514,\n",
       " (804, 2929): 0.3227486121839514,\n",
       " (804, 4589): 0.3227486121839514,\n",
       " (804, 82242): 0.3227486121839514,\n",
       " (804, 91488): 0.3227486121839514,\n",
       " (804, 650): 0.3227486121839514,\n",
       " (804, 3577): 0.5163977794943222,\n",
       " (804, 2629): 0.3227486121839514,\n",
       " (804, 645): 0.3227486121839514,\n",
       " (804, 4690): 0.3227486121839514,\n",
       " (919, 919): 1.0,\n",
       " (919, 2097): 0.3016677293969311,\n",
       " (923, 923): 1.0000000000000002,\n",
       " (923, 118900): 0.31362502409359005,\n",
       " (923, 2731): 0.36409642169007345,\n",
       " (923, 48322): 0.3087379229417364,\n",
       " (923, 165549): 0.3267525560204385,\n",
       " (940, 940): 1.0000000000000002,\n",
       " (940, 1226): 0.36653568749915644,\n",
       " (940, 1275): 0.31043636497823657,\n",
       " (940, 1804): 0.30414037608222527,\n",
       " (940, 2640): 0.3048903318398748,\n",
       " (940, 2644): 0.38524278782405735,\n",
       " (940, 4518): 0.43708647610777407,\n",
       " (940, 7991): 0.48634493332085,\n",
       " (940, 697): 0.5638246125882257,\n",
       " (940, 6001): 0.3120821685887562,\n",
       " (940, 1209): 0.3233024230010175,\n",
       " (940, 52604): 0.4494213948669715,\n",
       " (940, 73268): 0.3584145864742671,\n",
       " (940, 674): 0.3721857569281349,\n",
       " (940, 2082): 0.3164117292953373,\n",
       " (940, 3477): 0.3331520938686372,\n",
       " (940, 5693): 0.3367917034724796,\n",
       " (940, 54276): 0.30391533692741535,\n",
       " (940, 2579): 0.3639472224560079,\n",
       " (940, 2726): 0.4496491638948796,\n",
       " (940, 3350): 0.5146990979853042,\n",
       " (940, 6957): 0.36511166717643384,\n",
       " (940, 28): 0.30120585242455583,\n",
       " (940, 4679): 0.36302689313688985,\n",
       " (940, 3248): 0.33770159704978986,\n",
       " (940, 7748): 0.5061628660272783,\n",
       " (940, 8928): 0.5146990979853039,\n",
       " (940, 781): 0.3292917071287513,\n",
       " (940, 1991): 0.3061372018687078,\n",
       " (940, 3632): 0.4457424941602092,\n",
       " (940, 906): 0.39719548729478055,\n",
       " (940, 3075): 0.49963145863644404,\n",
       " (940, 50804): 0.3369496538061641,\n",
       " (940, 89753): 0.3185006217010052,\n",
       " (940, 7027): 0.4164120732859761,\n",
       " (940, 1799): 0.3031090215484265,\n",
       " (940, 8968): 0.3369496538061641,\n",
       " (940, 6270): 0.4863449333208499,\n",
       " (940, 6852): 0.4751630953254656,\n",
       " (940, 93006): 0.30391533692741535,\n",
       " (940, 4850): 0.37293492699144565,\n",
       " (940, 8501): 0.4751630953254656,\n",
       " (940, 54190): 0.48535073319817806,\n",
       " (940, 1529): 0.4863449333208502,\n",
       " (940, 8656): 0.44574249416020933,\n",
       " (940, 5363): 0.386024323488978,\n",
       " (940, 7008): 0.4457424941602092,\n",
       " (940, 4553): 0.31754499676857767,\n",
       " (940, 7333): 0.4457424941602092,\n",
       " (940, 7080): 0.30391533692741546,\n",
       " (940, 3909): 0.30391533692741535,\n",
       " (940, 7215): 0.30391533692741535,\n",
       " (940, 7222): 0.30391533692741546,\n",
       " (940, 7728): 0.3509312031717981,\n",
       " (940, 8609): 0.30391533692741535,\n",
       " (940, 25750): 0.30391533692741535,\n",
       " (940, 48593): 0.30391533692741535,\n",
       " (940, 80126): 0.30391533692741546,\n",
       " (940, 83132): 0.3509312031717982,\n",
       " (940, 89939): 0.30391533692741546,\n",
       " (940, 95654): 0.30391533692741535,\n",
       " (940, 5046): 0.4457424941602092,\n",
       " (940, 5062): 0.4457424941602092,\n",
       " (940, 952): 0.31037523417302226,\n",
       " (940, 3091): 0.4751630953254656,\n",
       " (940, 7044): 0.3013769323622414,\n",
       " (940, 27592): 0.315187540283689,\n",
       " (940, 5139): 0.315187540283689,\n",
       " (940, 5047): 0.501780421063974,\n",
       " (940, 7311): 0.3041403760822254,\n",
       " (940, 32770): 0.4457424941602092,\n",
       " (940, 4233): 0.3343068706201569,\n",
       " (940, 6625): 0.44574249416020933,\n",
       " (940, 4956): 0.5146990979853041,\n",
       " (940, 1255): 0.4945068979531823,\n",
       " (940, 5853): 0.4457424941602092,\n",
       " (940, 6872): 0.38907594665668016,\n",
       " (940, 7362): 0.315187540283689,\n",
       " (940, 50800): 0.4457424941602092,\n",
       " (940, 54785): 0.315187540283689,\n",
       " (940, 6811): 0.3369496538061641,\n",
       " (940, 7460): 0.4369150360242589,\n",
       " (940, 5255): 0.5061628660272783,\n",
       " (940, 5004): 0.4933465360146976,\n",
       " (940, 5980): 0.4457424941602092,\n",
       " (940, 7925): 0.4457424941602092,\n",
       " (940, 6530): 0.4457424941602092,\n",
       " (940, 3587): 0.4457424941602092,\n",
       " (940, 3813): 0.4457424941602092,\n",
       " (940, 4298): 0.4457424941602092,\n",
       " (940, 4426): 0.4457424941602092,\n",
       " (940, 4441): 0.3890759466566802,\n",
       " (940, 4527): 0.4457424941602092,\n",
       " (940, 4563): 0.5146990979853039,\n",
       " (940, 4833): 0.4863449333208502,\n",
       " (940, 6577): 0.4457424941602092,\n",
       " (940, 6981): 0.4457424941602092,\n",
       " (940, 7091): 0.4457424941602092,\n",
       " (940, 7386): 0.6727452763836783,\n",
       " (940, 7581): 0.4457424941602092,\n",
       " (940, 8270): 0.4457424941602092,\n",
       " (940, 44759): 0.499631458636444,\n",
       " (940, 47465): 0.4457424941602092,\n",
       " (943, 943): 0.9999999999999998,\n",
       " (943, 1032): 0.3241688604824467,\n",
       " (943, 351): 0.5050266831109368,\n",
       " (943, 3668): 0.3364740597974204,\n",
       " (943, 1013): 0.4856029655009792,\n",
       " (943, 1014): 0.4734407144056435,\n",
       " (943, 4041): 0.42011187053242915,\n",
       " (943, 1564): 0.509133174976598,\n",
       " (943, 1944): 0.3078948034744713,\n",
       " ...}"
      ]
     },
     "execution_count": 38,
     "metadata": {},
     "output_type": "execute_result"
    }
   ],
   "source": [
    "Similarity_Dict"
   ]
  },
  {
   "cell_type": "markdown",
   "metadata": {},
   "source": [
    "## Get scores for non rated movies"
   ]
  },
  {
   "cell_type": "markdown",
   "metadata": {},
   "source": [
    "The scores function predicts scores to non rated movies by the users. \n",
    "\n",
    "First, for every movie \"i\" non rated by a user, we calculate the 10 biggest similarites that this movie has, and, at the same time, that the user as rated.\n",
    "\n",
    "Then, we divide the sum of these similarities times the rating given by the user with the sum of similarities. In this way, we get the predicted score for that movie.\n",
    "\n",
    "Movies that were already rated by users will be represented in the predictions matrix as -1."
   ]
  },
  {
   "cell_type": "code",
   "execution_count": 39,
   "metadata": {},
   "outputs": [],
   "source": [
    "def scores(item):\n",
    "    \n",
    "    user=item[0]\n",
    "    ratings_change=item[1]\n",
    "    ratings_non_change=ratings_change[:]\n",
    "    \n",
    "    for n in range(0,item_movies_len):\n",
    "        \n",
    "        if ratings_change[n]==None:\n",
    "            \n",
    "            i=items_movies[n]            \n",
    "            i_dict = {}\n",
    "            \n",
    "            # i_dict is going to be a list with top 10 similaritys with movie i, that the user saw\n",
    "            for item, value in Similarity_Dict.items():\n",
    "                if (item[0] == i) and ratings_non_change[items_movies.index(item[1])]!=None:\n",
    "                    i_dict[item] = (value, ratings_non_change[items_movies.index(item[1])])                 \n",
    "            i_dict = sorted(i_dict.items(), key=lambda x:-x[1][0])[:10]           \n",
    "            \n",
    "            # calculate score\n",
    "            term1=0\n",
    "            term2=0\n",
    "            for item, value in i_dict:\n",
    "                term1=term1+(value[0]*value[1])\n",
    "                term2=term2+value[0]\n",
    "\n",
    "            #if the divider is 0, we have to change it to a very small number to continue the calculations    \n",
    "            if term2==0:\n",
    "                term2=0.0000000000000000001\n",
    "                \n",
    "            score=term1/term2\n",
    "            ratings_change[n]=score\n",
    "            \n",
    "        else:\n",
    "            ratings_change[n]=-1\n",
    "            \n",
    "    return (user,ratings_change)"
   ]
  },
  {
   "cell_type": "code",
   "execution_count": null,
   "metadata": {
    "scrolled": true,
    "tags": []
   },
   "outputs": [],
   "source": [
    "\n",
    "ScoresRDD=Train_user_RDD.map(lambda data: scores(data))\n",
    "\n",
    "ScoresRDD.take(2)"
   ]
  },
  {
   "cell_type": "markdown",
   "metadata": {},
   "source": [
    "Now the ScoresRDD is a RDD with the predicted scores, scores represented by 0 are movies that, for the user in question, the algorithm didn't foud similarities."
   ]
  },
  {
   "cell_type": "markdown",
   "metadata": {},
   "source": [
    "#### Now that we have the predicted scores for all the users, we can choose the users we want to check the predictions."
   ]
  },
  {
   "cell_type": "markdown",
   "metadata": {},
   "source": [
    "In this case, we will check the predictions for 10 users, we can choose the users we want to check by changing the userId values present in the User_Check list."
   ]
  },
  {
   "cell_type": "code",
   "execution_count": 49,
   "metadata": {},
   "outputs": [],
   "source": [
    "#Change here the users you want to check\n",
    "\n",
    "User_Check = [1,2,3,4,5,6,7,8,9,10]"
   ]
  },
  {
   "cell_type": "code",
   "execution_count": null,
   "metadata": {},
   "outputs": [],
   "source": [
    "# Create RDD with just the users we want to check\n",
    "\n",
    "User_Scores_RDD=ScoresRDD.filter(lambda x: x[0] in User_Check)\n",
    "\n",
    "User_Scores_RDD.take(2)"
   ]
  },
  {
   "cell_type": "code",
   "execution_count": 51,
   "metadata": {},
   "outputs": [
    {
     "name": "stderr",
     "output_type": "stream",
     "text": [
      "[Stage 83:>                 (0 + 1) / 1][Stage 85:>                 (0 + 1) / 1]\r"
     ]
    }
   ],
   "source": [
    "User_Scores = User_Scores_RDD.take(len(User_Check))"
   ]
  },
  {
   "cell_type": "code",
   "execution_count": null,
   "metadata": {},
   "outputs": [],
   "source": [
    "User_Scores"
   ]
  },
  {
   "cell_type": "markdown",
   "metadata": {},
   "source": [
    "Movies_Code_Dict is going to be a dictionary that correlates the code of a movie with it's name"
   ]
  },
  {
   "cell_type": "code",
   "execution_count": 53,
   "metadata": {},
   "outputs": [
    {
     "name": "stderr",
     "output_type": "stream",
     "text": [
      "[Stage 83:>                 (0 + 1) / 1][Stage 85:>                 (0 + 1) / 1]\r"
     ]
    }
   ],
   "source": [
    "# Create Dictionary Movie Code:Movie Name\n",
    "\n",
    "Movies_df=Movies_df.drop(*['genres'])\n",
    "\n",
    "Movies_CodeRDD = Movies_df.rdd.map(tuple)\n",
    "\n",
    "Movies_Code_Dict=Movies_CodeRDD.collectAsMap()"
   ]
  },
  {
   "cell_type": "code",
   "execution_count": null,
   "metadata": {
    "scrolled": true,
    "tags": []
   },
   "outputs": [],
   "source": [
    "Movies_Code_Dict"
   ]
  },
  {
   "cell_type": "markdown",
   "metadata": {},
   "source": [
    "Now we get the results for the chosen users:"
   ]
  },
  {
   "cell_type": "code",
   "execution_count": 70,
   "metadata": {},
   "outputs": [
    {
     "name": "stdout",
     "output_type": "stream",
     "text": [
      "Some movies with highest recomendation to user:  1\n",
      "Wolf of Wall Street, The (2013) | Interstellar (2014) | Whiplash (2014) | Dangerous Minds (1995) | Courage Under Fire (1996) | Operation Dumbo Drop (1995) | Wallace & Gromit: The Best of Aardman Animation (1996) | Doors, The (1991) | On Golden Pond (1981) | Deer Hunter, The (1978) | Patton (1970) | Field of Dreams (1989) | Lady and the Tramp (1955) | Saturn 3 (1980) | Fast Times at Ridgemont High (1982) | The Lair of the White Worm (1988) | Snow Dogs (2002) | Green Card (1990) | Death Race 2000 (1975) | Mighty Aphrodite (1995) | Muriel's Wedding (1994) | More  1061  movies.\n",
      "\n",
      "\n",
      "Some movies with highest recomendation to user:  2\n",
      "Flight of the Navigator (1986) | Troll 2 (1990) | Before Sunrise (1995) | Ocean's Eleven (2001) | Man on Fire (2004) | National Treasure (2004) | Phantom of the Opera, The (2004) | Girl with a Pearl Earring (2003) | Hotel Rwanda (2004) | Quantum of Solace (2008) | He's Just Not That Into You (2009) | Kung Fu Panda 2 (2011) | Help, The (2011) | Ice Age 4: Continental Drift (2012) | Skyfall (2012) | Despicable Me 2 (2013) | Enough Said (2013) | Notebook, The (2004) | The Butterfly Effect (2004) | Iron Man (2008) | Gran Torino (2008) | More  167  movies.\n",
      "\n",
      "\n",
      "Some movies with highest recomendation to user:  3\n",
      "Adventures of Robin Hood, The (1938) | Logan's Run (1976) | Superman (1978) | Predator (1987) | Step Brothers (2008) | High Plains Drifter (1973) | Balto (1995) | Feeling Minnesota (1996) | Miss Congeniality 2: Armed and Fabulous (2005) | King of Comedy, The (1983) | Easy A (2010) | Best Exotic Marigold Hotel, The (2011) | Barefoot (2014) | The Second Best Exotic Marigold Hotel (2015) | Chappie (2015) | 10 Cloverfield Lane (2016) | Once Upon a Time in the West (C'era una volta il West) (1968) | Way of the Gun, The (2000) | Crimson Rivers, The (Rivières pourpres, Les) (2000) | Layer Cake (2004) | Aeon Flux (2005) | More  396  movies.\n",
      "\n",
      "\n",
      "Some movies with highest recomendation to user:  4\n",
      "Jurassic Park (1993) | Star Wars: Episode VI - Return of the Jedi (1983) | Blues Brothers, The (1980) | Bambi (1942) | Negotiator, The (1998) | Song of the South (1946) | Very Bad Things (1998) | Psycho (1998) | Big (1988) | Mad Max (1979) | Inside Job (2010) | In the Line of Fire (1993) | Secret Garden, The (1993) | American President, The (1995) | Othello (1995) | Eye for an Eye (1996) | Juror, The (1996) | Lord of Illusions (1995) | Something to Talk About (1995) | Major Payne (1995) | Love Affair (1994) | More  702  movies.\n",
      "\n",
      "\n",
      "Some movies with highest recomendation to user:  5\n",
      "Sword in the Stone, The (1963) | Alice in Wonderland (1951) | Quiet Man, The (1952) | Bambi (1942) | Night on Earth (1991) | Pecker (1998) | Crimes and Misdemeanors (1989) | Together (Tillsammans) (2000) | Man Who Wasn't There, The (2001) | Passengers (2016) | Cinderella (1950) | Peter Pan (1953) | Rescuers Down Under, The (1990) | Sandlot, The (1993) | Jackass: The Movie (2002) | Rosencrantz and Guildenstern Are Dead (1990) | Bronx Tale, A (1993) | King of New York (1990) | The Falcon and the Snowman (1985) | Croupier (1998) | Reversal of Fortune (1990) | More  43  movies.\n",
      "\n",
      "\n",
      "Some movies with highest recomendation to user:  6\n",
      "Toy Story (1995) | Rock, The (1996) | Newton Boys, The (1998) | Lethal Weapon (1987) | Howard the Duck (1986) | Grumpy Old Men (1993) | Space Cowboys (2000) | Picture Perfect (1997) | Memphis Belle (1990) | Identity (2003) | 127 Hours (2010) | Peter Pan (2003) | Black Sheep (2006) | \n",
      "\n",
      "Some movies with highest recomendation to user:  7\n",
      "Blown Away (1994) | Fugitive, The (1993) | Swingers (1996) | Duck Soup (1933) | Fantasia (1940) | Nosferatu (Nosferatu, eine Symphonie des Grauens) (1922) | McHale's Navy (1997) | Conan the Barbarian (1982) | Lethal Weapon (1987) | Saving Private Ryan (1998) | Legend (1985) | Dr. No (1962) | Fight Club (1999) | Ladyhawke (1985) | Django Unchained (2012) | Wolf of Wall Street, The (2013) | Interstellar (2014) | Whiplash (2014) | Adventures of Priscilla, Queen of the Desert, The (1994) | Pajama Game, The (1957) | State and Main (2000) | More  367  movies.\n",
      "\n",
      "\n",
      "Some movies with highest recomendation to user:  8\n",
      "Clerks (1994) | Client, The (1994) | \n",
      "\n",
      "Some movies with highest recomendation to user:  9\n",
      "Star Wars: Episode V - The Empire Strikes Back (1980) | Big (1988) | Shutter Island (2010) | Indiana Jones and the Last Crusade (1989) | Lord of the Rings: The Return of the King, The (2003) | Trainspotting (1996) | The Machinist (2004) | Transformers (2007) | Hanna (2011) | Drive (2011) | From Hell (2001) | American Hustle (2013) | Avengers: Age of Ultron (2015) | Shopgirl (2005) | Tomb Raider (2018) | Nothing to Lose (1997) | Down with Love (2003) | Ladykillers, The (2004) | Boy in the Striped Pajamas, The (Boy in the Striped Pyjamas, The) (2008) | War for the Planet of the Apes (2017) | Simone (S1m0ne) (2002) | More  2  movies.\n",
      "\n",
      "\n",
      "Some movies with highest recomendation to user:  10\n",
      "Last of the Mohicans, The (1992) | Song of the South (1946) | Very Bad Things (1998) | Departed, The (2006) | Inside Job (2010) | Searchers, The (1956) | Othello (1995) | Eye for an Eye (1996) | Dunston Checks In (1996) | Nick of Time (1995) | Wild Bill (1995) | Heavyweights (Heavy Weights) (1995) | Love Affair (1994) | Man of the House (1995) | Cobb (1994) | I'll Do Anything (1994) | Little Big League (1994) | Angus (1995) | Quest, The (1996) | Chamber, The (1996) | Shrek 2 (2004) | More  296  movies.\n",
      "\n",
      "\n"
     ]
    },
    {
     "name": "stderr",
     "output_type": "stream",
     "text": [
      "[Stage 83:>                 (0 + 1) / 1][Stage 85:>                 (0 + 1) / 1]\r"
     ]
    }
   ],
   "source": [
    "for item in User_Scores:\n",
    "    user=item[0]\n",
    "    print('Some movies with highest recomendation to user: ', user)\n",
    "    ratings=item[1]\n",
    "    n=0\n",
    "    recomended=[]\n",
    "    for rate in ratings:\n",
    "        if rate>=4.5:  #Change here the threshold of score you want to analyse\n",
    "            recomended.append(Movies_Code_Dict[str(items_movies[n])])\n",
    "        n=n+1\n",
    "    m=0\n",
    "    for movie in recomended:\n",
    "        if m>20:\n",
    "            print('More ', len(recomended)-20, ' movies.' )\n",
    "            break\n",
    "        print(movie, end = ' | ')   \n",
    "        m=m+1\n",
    "    print()\n",
    "    print()"
   ]
  },
  {
   "cell_type": "markdown",
   "metadata": {},
   "source": [
    "## Validate Results"
   ]
  },
  {
   "cell_type": "markdown",
   "metadata": {},
   "source": [
    "Now we need to validate our results, for this we use the test set, and compare the real values given by the users with the predicted values."
   ]
  },
  {
   "cell_type": "markdown",
   "metadata": {},
   "source": [
    "First we transform the test Dataset into a RDD."
   ]
  },
  {
   "cell_type": "code",
   "execution_count": 58,
   "metadata": {},
   "outputs": [
    {
     "name": "stderr",
     "output_type": "stream",
     "text": [
      "                                                                                \r"
     ]
    },
    {
     "data": {
      "text/plain": [
       "[(1, 362, 5.0), (1, 527, 5.0)]"
      ]
     },
     "execution_count": 58,
     "metadata": {},
     "output_type": "execute_result"
    },
    {
     "name": "stderr",
     "output_type": "stream",
     "text": [
      "[Stage 83:>                 (0 + 1) / 1][Stage 85:>                 (0 + 1) / 1]\r"
     ]
    }
   ],
   "source": [
    "\n",
    "Test_RDD =Test.rdd.map(lambda data:(data.userId, data.movieId, data.rating,))\n",
    "\n",
    "Test_RDD.take(2)"
   ]
  },
  {
   "cell_type": "markdown",
   "metadata": {},
   "source": [
    "To validate the results we will just use the users we checked in the last section, so we can filter the Test_RDD with that in mind."
   ]
  },
  {
   "cell_type": "code",
   "execution_count": 59,
   "metadata": {},
   "outputs": [],
   "source": [
    "Test_RDD=Test_RDD.filter(lambda x: x[0] in User_Check)\n",
    "\n"
   ]
  },
  {
   "cell_type": "markdown",
   "metadata": {},
   "source": [
    "To be able to compare the values, we need to collect the obtained results. row_scores is going to be a list with the predicted scores and user_ordered is going to be a list of users by the order encountered in the predicted scores list."
   ]
  },
  {
   "cell_type": "code",
   "execution_count": 60,
   "metadata": {},
   "outputs": [],
   "source": [
    "user_ordered = [item[0] for item in User_Scores]"
   ]
  },
  {
   "cell_type": "markdown",
   "metadata": {},
   "source": [
    "The function PredictedScore finds the predicted score of a test rating in the row_scores list, if any score is found it returns Nones"
   ]
  },
  {
   "cell_type": "code",
   "execution_count": 61,
   "metadata": {},
   "outputs": [],
   "source": [
    "def PredictedScore(item):\n",
    "    \n",
    "    if item[0] in Train_user_ratings and item[1] in Train_movie_ratings:\n",
    "        user_index=user_ordered.index(item[0])\n",
    "        \n",
    "        predicted=User_Scores[user_index][1][items_movies.index(item[1])]                       \n",
    "\n",
    "        if predicted==0:\n",
    "            # In this case the algorithm wasn't able to discover a score, becase the similaritys between this movie and other movies are low.\n",
    "            return(None, None, None, None)\n",
    "    \n",
    "        return (item[0], item[1], item[2], predicted)\n",
    "    \n",
    "    # This rating ins't possible to get because the Train dataset dind't had the movie related to it \n",
    "    else:\n",
    "        return(None, None, None, None)\n",
    "    "
   ]
  },
  {
   "cell_type": "code",
   "execution_count": 62,
   "metadata": {
    "scrolled": true,
    "tags": []
   },
   "outputs": [
    {
     "name": "stderr",
     "output_type": "stream",
     "text": [
      "                                                                                \r"
     ]
    },
    {
     "data": {
      "text/plain": [
       "[(None, None, None, None),\n",
       " (None, None, None, None),\n",
       " (None, None, None, None),\n",
       " (None, None, None, None)]"
      ]
     },
     "execution_count": 62,
     "metadata": {},
     "output_type": "execute_result"
    },
    {
     "name": "stderr",
     "output_type": "stream",
     "text": [
      "[Stage 83:>                 (0 + 1) / 1][Stage 85:>                 (0 + 1) / 1]\r"
     ]
    }
   ],
   "source": [
    "Test_RDD=Test_RDD.map(lambda data: PredictedScore(data))\n",
    "\n",
    "Test_RDD.take(4)"
   ]
  },
  {
   "cell_type": "markdown",
   "metadata": {},
   "source": [
    "Eliminating rows with Nones (the ones corresponding to non predicted ratings)"
   ]
  },
  {
   "cell_type": "code",
   "execution_count": 63,
   "metadata": {},
   "outputs": [
    {
     "name": "stderr",
     "output_type": "stream",
     "text": [
      "                                                                                \r"
     ]
    },
    {
     "data": {
      "text/plain": [
       "[(1, 1009, 3.0, 5.0),\n",
       " (1, 1029, 5.0, 5.0),\n",
       " (1, 1080, 5.0, 5.0),\n",
       " (1, 1208, 4.0, 5.0)]"
      ]
     },
     "execution_count": 63,
     "metadata": {},
     "output_type": "execute_result"
    },
    {
     "name": "stderr",
     "output_type": "stream",
     "text": [
      "[Stage 83:>                 (0 + 1) / 1][Stage 85:>                 (0 + 1) / 1]\r"
     ]
    }
   ],
   "source": [
    "Test_RDD = Test_RDD.filter( lambda x: x[0]!=None)\n",
    "\n",
    "Test_RDD.take(4)"
   ]
  },
  {
   "cell_type": "markdown",
   "metadata": {},
   "source": [
    "Now we we turn the Test_RDD into a DataFrame and get the following results:"
   ]
  },
  {
   "cell_type": "code",
   "execution_count": 64,
   "metadata": {},
   "outputs": [
    {
     "name": "stderr",
     "output_type": "stream",
     "text": [
      "                                                                                \r"
     ]
    },
    {
     "name": "stdout",
     "output_type": "stream",
     "text": [
      "+------+-------+------+------------------+\n",
      "|userId|movieId|rating|        prediction|\n",
      "+------+-------+------+------------------+\n",
      "|     1|   1009|   3.0|               5.0|\n",
      "|     1|   1029|   5.0|               5.0|\n",
      "|     1|   1080|   5.0|               5.0|\n",
      "|     1|   1208|   4.0|               5.0|\n",
      "|     1|   1291|   5.0|               5.0|\n",
      "|     1|   2012|   4.0| 4.082240035914576|\n",
      "|     1|   2048|   5.0|               5.0|\n",
      "|     1|   2094|   5.0|               5.0|\n",
      "|     1|   2406|   4.0|               5.0|\n",
      "|     1|   2648|   4.0|               5.0|\n",
      "|     1|   3034|   5.0|               5.0|\n",
      "|     4|    190|   2.0|               4.0|\n",
      "|     4|   1250|   5.0| 4.319585789296528|\n",
      "|     4|   1885|   3.0|3.6303145256930645|\n",
      "|     4|   2019|   2.0|               4.0|\n",
      "|     4|   2186|   5.0| 4.739947127994415|\n",
      "|     4|   4033|   4.0|          3.390625|\n",
      "|     4|   4144|   3.0|3.5971843056019686|\n",
      "|     6|      6|   4.0|               3.0|\n",
      "|     6|     36|   5.0|               4.0|\n",
      "+------+-------+------+------------------+\n",
      "only showing top 20 rows\n",
      "\n"
     ]
    },
    {
     "name": "stderr",
     "output_type": "stream",
     "text": [
      "[Stage 83:>                 (0 + 1) / 1][Stage 85:>                 (0 + 1) / 1]\r"
     ]
    }
   ],
   "source": [
    "Test_predict = Test_RDD.toDF()\n",
    "\n",
    "Test_predict=Test_predict.toDF(*['userId','movieId','rating','prediction'])\n",
    "\n",
    "Test_predict.show()"
   ]
  },
  {
   "cell_type": "markdown",
   "metadata": {},
   "source": [
    "To analyse if the results are similar to the real ratings, we use the RMSE algorithm (Root-mean-square error). It shows how the predicted rating, in mean, is different to the real rating.\n",
    "\n",
    "The RMSE algorithm is calculated in the following way: sum of the predicted rating minus the real rating squared, then divide it with the sum of the predicted ratings, finally square root the result."
   ]
  },
  {
   "cell_type": "code",
   "execution_count": 65,
   "metadata": {},
   "outputs": [
    {
     "name": "stdout",
     "output_type": "stream",
     "text": [
      "1.1702033707556876\n"
     ]
    },
    {
     "name": "stderr",
     "output_type": "stream",
     "text": [
      "[Stage 83:>                 (0 + 1) / 1][Stage 85:>                 (0 + 1) / 1]\r"
     ]
    }
   ],
   "source": [
    "evaluator = RegressionEvaluator(metricName=\"rmse\", labelCol=\"rating\", predictionCol=\"prediction\") \n",
    "\n",
    "RMSE = evaluator.evaluate(Test_predict)\n",
    "print(RMSE)\n"
   ]
  },
  {
   "cell_type": "markdown",
   "metadata": {},
   "source": [
    "The obtained result, 1.17, is relatively good. It means that a predicted rating is, in mean, separeted from the real value by a score of 1.17. \n",
    "\n",
    "Although not perfect, is enough to obtain movies that the user will probably like."
   ]
  },
  {
   "cell_type": "markdown",
   "metadata": {},
   "source": [
    "Now we will use the Test_RDD to get the precision at top 10\n",
    "\n",
    "To calculate it, we take a threshold, in this case we chosed 3.5, that separates movies into to categories, the ones to recomend and the ones to not recomend. Then, we check if the real rating given by the user leads to the same result has the predicted rating (recomend or don't recomend), in the 10 movies with the biggest predicted rating."
   ]
  },
  {
   "cell_type": "code",
   "execution_count": 72,
   "metadata": {},
   "outputs": [
    {
     "name": "stderr",
     "output_type": "stream",
     "text": [
      "                                                                                \r"
     ]
    },
    {
     "name": "stdout",
     "output_type": "stream",
     "text": [
      "Leght of the predicted data:\n",
      "[(1, 10), (4, 6), (6, 8), (7, 3), (10, 6)]\n",
      "\n",
      "Top 10 algorithm by user:\n",
      "[(1, 0.9), (4, 0.3333333333333333), (6, 0.625), (7, 0.6666666666666666), (10, 0.8333333333333334)]\n",
      "\n",
      "Top 10 algorithm mean:\n",
      "0.6716666666666666\n"
     ]
    },
    {
     "name": "stderr",
     "output_type": "stream",
     "text": [
      "[Stage 83:>                 (0 + 1) / 1][Stage 85:>                 (0 + 1) / 1]\r"
     ]
    }
   ],
   "source": [
    "Top10_list=[]\n",
    "Top10_user_list=[]\n",
    "Top10_len_list=[]\n",
    "for userID in User_Check:\n",
    "\n",
    "    userID_RDD = Test_RDD.filter(lambda x: x[0]== userID)\n",
    "    userID_RDD = userID_RDD.filter(lambda x: x[3]>= 3.5)\n",
    "    userID_RDD = userID_RDD.map(lambda x: [x[2], x[3]])\n",
    "    userID_list = userID_RDD.collect()\n",
    "\n",
    "    if len(userID_list)>=1:\n",
    "        userID_list = sorted(userID_list, key=lambda x: x[1], reverse=True)\n",
    "        userID_list = userID_list[:10]\n",
    "        quantity=0\n",
    "        pred=0\n",
    "        for x in userID_list:\n",
    "            if x[0]>= 3.5: # defined threshold\n",
    "                pred = pred+1\n",
    "            quantity=quantity+1\n",
    "        Top10_list.append(pred/quantity)\n",
    "        Top10_user_list.append((userID,pred/quantity))\n",
    "        Top10_len_list.append((userID,len(userID_list)))\n",
    "\n",
    "\n",
    "print('Length of the predicted data:')\n",
    "print(Top10_len_list)\n",
    "\n",
    "print()\n",
    "\n",
    "print('Top 10 algorithm by user:')\n",
    "print(Top10_user_list)\n",
    "\n",
    "print()\n",
    "\n",
    "print('Top 10 algorithm mean:')\n",
    "Top10_mean=sum(Top10_list)/len(Top10_list)\n",
    "\n",
    "print(Top10_mean)"
   ]
  },
  {
   "cell_type": "markdown",
   "metadata": {},
   "source": [
    "The best results we got were the ones of user 1, were 90% of the predictions were good predictions. The other users have lower percentage of good predictions.\n",
    "\n",
    "In the analysed users, the only user that has at least 10 ratings possible to compare is user 1, so the results obtained for the other users aren't a \"real\" top 10. This leads to some problems in the analysis of the other users, because some of the movies will have predicted ratings very close to the defined threshold.\n",
    "\n",
    "The Top 10 mean obtained is 0.67, it isn't bad having the above in mind."
   ]
  }
 ],
 "metadata": {
  "interpreter": {
   "hash": "feadebf20b976b1cfb56aefc2c30fd72e4ba64937f7d4f9e81b2741d0d3f4dd7"
  },
  "kernelspec": {
   "display_name": "Python 3 (ipykernel)",
   "language": "python",
   "name": "python3"
  },
  "language_info": {
   "codemirror_mode": {
    "name": "ipython",
    "version": 3
   },
   "file_extension": ".py",
   "mimetype": "text/x-python",
   "name": "python",
   "nbconvert_exporter": "python",
   "pygments_lexer": "ipython3",
   "version": "3.9.7"
  }
 },
 "nbformat": 4,
 "nbformat_minor": 4
}
